{
 "cells": [
  {
   "cell_type": "code",
   "execution_count": 1,
   "metadata": {},
   "outputs": [],
   "source": [
    "# import libraries\n",
    "import pandas as pd\n",
    "import seaborn as sns\n",
    "import matplotlib.pyplot as plt\n",
    "import numpy as np\n",
    "%matplotlib inline\n",
    "import sklearn\n",
    "import warnings\n",
    "warnings.filterwarnings('ignore')\n",
    "pd.set_option('display.max_columns', None)\n",
    "from sklearn.model_selection import train_test_split\n",
    "from sklearn import linear_model\n",
    "from sklearn.metrics import mean_squared_error\n",
    "from sklearn.metrics import mean_absolute_error\n",
    "#\n",
    "from sklearn.preprocessing import PolynomialFeatures\n",
    "poly = PolynomialFeatures()\n",
    "#\n",
    "import os\n",
    "import numpy as np\n",
    "import scipy.stats as stats\n",
    "from statsmodels.formula.api import ols\n",
    "import statsmodels.api as sm\n",
    "import matplotlib.pyplot as plt\n",
    "import seaborn as sns\n",
    "%matplotlib inline\n",
    "from statsmodels.stats.multicomp import pairwise_tukeyhsd\n",
    "from statsmodels.stats.multicomp import MultiComparison\n",
    "#\n",
    "from sklearn.preprocessing import LabelEncoder\n",
    "make_lb = LabelEncoder()\n",
    "#\n",
    "from sklearn.preprocessing import LabelBinarizer\n",
    "lbb = LabelBinarizer()\n",
    "from sklearn.preprocessing import StandardScaler\n",
    "scaler = StandardScaler()\n",
    "from sklearn.preprocessing import MinMaxScaler\n",
    "minmax = MinMaxScaler()\n",
    "from sklearn.linear_model import LogisticRegression"
   ]
  },
  {
   "cell_type": "markdown",
   "metadata": {},
   "source": [
    "# Data Cleaning & Exploration"
   ]
  },
  {
   "cell_type": "code",
   "execution_count": 11,
   "metadata": {},
   "outputs": [],
   "source": [
    "df = pd.read_csv('student_data.csv')"
   ]
  },
  {
   "cell_type": "code",
   "execution_count": 12,
   "metadata": {},
   "outputs": [],
   "source": [
    "df.rename(columns={'default payment next month': 'default'}, inplace=True)\n",
    "df.columns=df.columns.str.lower()"
   ]
  },
  {
   "cell_type": "code",
   "execution_count": 13,
   "metadata": {},
   "outputs": [
    {
     "name": "stdout",
     "output_type": "stream",
     "text": [
      "<class 'pandas.core.frame.DataFrame'>\n",
      "RangeIndex: 23999 entries, 0 to 23998\n",
      "Data columns (total 25 columns):\n",
      "id           23999 non-null int64\n",
      "limit_bal    23999 non-null int64\n",
      "sex          23999 non-null int64\n",
      "education    23999 non-null int64\n",
      "marriage     23999 non-null int64\n",
      "age          23999 non-null int64\n",
      "pay_0        23999 non-null int64\n",
      "pay_2        23999 non-null int64\n",
      "pay_3        23999 non-null int64\n",
      "pay_4        23999 non-null int64\n",
      "pay_5        23999 non-null int64\n",
      "pay_6        23999 non-null int64\n",
      "bill_amt1    23999 non-null int64\n",
      "bill_amt2    23999 non-null int64\n",
      "bill_amt3    23999 non-null int64\n",
      "bill_amt4    23999 non-null int64\n",
      "bill_amt5    23999 non-null int64\n",
      "bill_amt6    23999 non-null int64\n",
      "pay_amt1     23999 non-null int64\n",
      "pay_amt2     23999 non-null int64\n",
      "pay_amt3     23999 non-null int64\n",
      "pay_amt4     23999 non-null int64\n",
      "pay_amt5     23999 non-null int64\n",
      "pay_amt6     23999 non-null int64\n",
      "default      23999 non-null int64\n",
      "dtypes: int64(25)\n",
      "memory usage: 4.6 MB\n"
     ]
    }
   ],
   "source": [
    "df.info()"
   ]
  },
  {
   "cell_type": "markdown",
   "metadata": {},
   "source": [
    "#### For Reference\n",
    "\n",
    "X1: Amount of the given credit (NT dollar): it includes both the individual consumer credit and his/her family (supplementary) credit.\n",
    "X2: Gender (1 = male; 2 = female).\n",
    "X3: Education (1 = graduate school; 2 = university; 3 = high school; 4 = others).\n",
    "X4: Marital status (1 = married; 2 = single; 3 = others).\n",
    "X5: Age (year).\n",
    "X6 - X11: History of past payment. We tracked the past monthly payment records (from April to September, 2005) as follows: X6 = the repayment status in September, 2005; X7 = the repayment status in August, 2005; . . .;X11 = the repayment status in April, 2005. The measurement scale for the repayment status is: -1 = pay duly; 1 = payment delay for one month; 2 = payment delay for two months; . . .; 8 = payment delay for eight months; 9 = payment delay for nine months and above.\n",
    "X12-X17: Amount of bill statement (NT dollar). X12 = amount of bill statement in September, 2005; X13 = amount of bill statement in August, 2005; . . .; X17 = amount of bill statement in April, 2005.\n",
    "X18-X23: Amount of previous payment (NT dollar). X18 = amount paid in September, 2005; X19 = amount paid in August, 2005; . . .;X23 = amount paid in April, 2005.  \n",
    "\n",
    "Found this to only be slightly helpful. Not so much cleaning but more wrangling will be involved."
   ]
  },
  {
   "cell_type": "code",
   "execution_count": 14,
   "metadata": {},
   "outputs": [
    {
     "data": {
      "text/plain": [
       "0    18691\n",
       "1     5308\n",
       "Name: default, dtype: int64"
      ]
     },
     "execution_count": 14,
     "metadata": {},
     "output_type": "execute_result"
    }
   ],
   "source": [
    "df['default'].value_counts()"
   ]
  },
  {
   "cell_type": "code",
   "execution_count": 15,
   "metadata": {},
   "outputs": [
    {
     "data": {
      "text/plain": [
       "<matplotlib.axes._subplots.AxesSubplot at 0x1c191cf710>"
      ]
     },
     "execution_count": 15,
     "metadata": {},
     "output_type": "execute_result"
    },
    {
     "data": {
      "image/png": "[encoded data removed]",
      "text/plain": [
       "<Figure size 432x288 with 1 Axes>"
      ]
     },
     "metadata": {},
     "output_type": "display_data"
    }
   ],
   "source": [
    "# Viewing the distribution of age in the data\n",
    "sns.distplot(df['age'], bins = 7)"
   ]
  },
  {
   "cell_type": "code",
   "execution_count": 16,
   "metadata": {},
   "outputs": [
    {
     "data": {
      "text/plain": [
       "<matplotlib.legend.Legend at 0x1c19d1c210>"
      ]
     },
     "execution_count": 16,
     "metadata": {},
     "output_type": "execute_result"
    },
    {
     "data": {
      "image/png": "[encoded data removed]",
      "text/plain": [
       "<Figure size 1152x720 with 1 Axes>"
      ]
     },
     "metadata": {},
     "output_type": "display_data"
    }
   ],
   "source": [
    "# Plotting total number 'clean' with the total number 'defaulted' over it\n",
    "# There is a bit of a misalignment with the distribution\n",
    "# Ages should be binned\n",
    "sns.set_style('darkgrid')\n",
    "fig = plt.figure(figsize = (16,10))\n",
    "fig.subplots_adjust(hspace = .30)\n",
    "\n",
    "ax1 = fig.add_subplot(221)\n",
    "ax1.hist(df[df['default'] ==0].age, bins = 25, label ='Clean', alpha = .50,edgecolor= 'black',color ='grey')\n",
    "ax1.hist(df[df['default']==1].age, bins = 25, label = 'Defaulted', alpha = .50, edgecolor = 'black',color = 'lightgreen')\n",
    "ax1.set_xlabel('Age')\n",
    "ax1.set_ylabel('Amount per Age')\n",
    "ax1.legend(loc = 'upper right')"
   ]
  },
  {
   "cell_type": "code",
   "execution_count": 17,
   "metadata": {},
   "outputs": [],
   "source": [
    "# Binning then getting dummies for age groups\n",
    "\n",
    "df['age_bin'] = pd.cut(df['age'], 6, labels=['20s', '30s', '40s', '50s', '60s', '70s'])\n",
    "df[['age', 'age_bin']]\n",
    "dums = pd.get_dummies(df['age_bin'], drop_first=True)\n",
    "df.drop(columns=['age'], axis=1, inplace=True)\n",
    "dums = pd.get_dummies(df['age_bin'], drop_first=True)\n",
    "df = df.join(dums)"
   ]
  },
  {
   "cell_type": "code",
   "execution_count": 18,
   "metadata": {},
   "outputs": [
    {
     "data": {
      "text/plain": [
       "<matplotlib.legend.Legend at 0x1c19a65cd0>"
      ]
     },
     "execution_count": 18,
     "metadata": {},
     "output_type": "execute_result"
    },
    {
     "data": {
      "image/png": "[encoded data removed]",
      "text/plain": [
       "<Figure size 1152x720 with 1 Axes>"
      ]
     },
     "metadata": {},
     "output_type": "display_data"
    }
   ],
   "source": [
    "###### sns.set_style('darkgrid')\n",
    "fig = plt.figure(figsize = (16,10))\n",
    "fig.subplots_adjust(hspace = .30)\n",
    "\n",
    "ax1 = fig.add_subplot(221)\n",
    "ax1.hist(df[df['default'] ==0].age_bin, bins = 6, label ='Clean', alpha = .50,edgecolor= 'black',color ='grey')\n",
    "ax1.hist(df[df['default']==1].age_bin, bins = 6, label = 'Defaulted', alpha = .50, edgecolor = 'black',color = 'lightgreen')\n",
    "ax1.set_xlabel('Age')\n",
    "ax1.set_ylabel('Amount per Age')\n",
    "ax1.legend(loc = 'upper right')"
   ]
  },
  {
   "cell_type": "markdown",
   "metadata": {},
   "source": [
    "A bit wonky but still gives a good idea of how the `default` classification is spread out throughout age groups. Those between 20-40 make up most of this data."
   ]
  },
  {
   "cell_type": "code",
   "execution_count": 19,
   "metadata": {},
   "outputs": [],
   "source": [
    "# Can now delete the `age_bin` column since we have dummies\n",
    "df.drop(columns=['age_bin'], axis=1, inplace=True)"
   ]
  },
  {
   "cell_type": "code",
   "execution_count": 20,
   "metadata": {},
   "outputs": [],
   "source": [
    "# Making sex a binary term\n",
    "# Dropping the `sex` column and replacing with gender\n",
    "gender = []\n",
    "for x in df['sex']:\n",
    "    if x == 1:\n",
    "        gender.append(1)\n",
    "    elif x == 2:\n",
    "        gender.append(0)\n",
    "\n",
    "df['gender'] = gender\n",
    "df.drop(columns=['sex'], axis=1, inplace=True)"
   ]
  },
  {
   "cell_type": "code",
   "execution_count": 21,
   "metadata": {},
   "outputs": [],
   "source": [
    "# Since I don't know what is above 4 in regards to education, I am going to bin \n",
    "# All of the education types into their labeled types, except all above 4 are `others`\n",
    "# Making dummies for the different education levels\n",
    "\n",
    "df['edu'] = pd.cut(df['education'], 4, labels=['grad', 'undergrad', 'highschool', 'others'])\n",
    "df[['edu', 'education']]\n",
    "dums = pd.get_dummies(df['edu'], drop_first=True)\n",
    "df.drop(columns=['education'], axis=1, inplace=True)"
   ]
  },
  {
   "cell_type": "code",
   "execution_count": 22,
   "metadata": {},
   "outputs": [],
   "source": [
    "# Adding the dummies, dropping the old column\n",
    "df = df.join(dums)\n",
    "df.drop(columns=['edu'], axis=1, inplace=True)"
   ]
  },
  {
   "cell_type": "code",
   "execution_count": 23,
   "metadata": {},
   "outputs": [],
   "source": [
    "df.drop(columns=['marriage', 'id',], axis=1, inplace=True)"
   ]
  },
  {
   "cell_type": "code",
   "execution_count": 24,
   "metadata": {},
   "outputs": [],
   "source": [
    "# Manually MinMax scaling the continuous columns\n",
    "# Normalization\n",
    "\n",
    "col_to_norm = ['limit_bal', 'bill_amt1', 'bill_amt2', 'bill_amt3', 'bill_amt4', 'bill_amt5', 'bill_amt6',\n",
    "              'pay_amt1', 'pay_amt2', 'pay_amt3', 'pay_amt4', 'pay_amt5', 'pay_amt6']\n",
    "df[col_to_norm] = df[col_to_norm].apply(lambda x: (x - x.min()) /(x.max() - x.min()), axis=0)"
   ]
  },
  {
   "cell_type": "markdown",
   "metadata": {},
   "source": [
    "Bit of a divergence here. I want to see what happens if I just make the `pay_x` columns either 0 or 1. 0 for not late/on time, 1 for late. Not sure if this will help or hurt, which is why I am going to diverge a separate data frame for that."
   ]
  },
  {
   "cell_type": "code",
   "execution_count": 25,
   "metadata": {},
   "outputs": [],
   "source": [
    "df2 = df\n",
    "df2.loc[df2.pay_0 <= 0, 'pay_0'] = 0\n",
    "df2.loc[df2.pay_0 > 0, 'pay_0'] = 1\n",
    "df2.loc[df2.pay_2 <= 0, 'pay_2'] = 0\n",
    "df2.loc[df2.pay_2 > 0, 'pay_2'] = 1\n",
    "df2.loc[df2.pay_3 <= 0, 'pay_3'] = 0\n",
    "df2.loc[df2.pay_3 > 0, 'pay_3'] = 1\n",
    "df2.loc[df2.pay_4 <= 0, 'pay_4'] = 0\n",
    "df2.loc[df2.pay_4 > 0, 'pay_4'] = 1\n",
    "df2.loc[df2.pay_5 <= 0, 'pay_5'] = 0\n",
    "df2.loc[df2.pay_5 > 0, 'pay_5'] = 1\n",
    "df2.loc[df2.pay_6 <= 0, 'pay_6'] = 0\n",
    "df2.loc[df2.pay_6 > 0, 'pay_6'] = 1"
   ]
  },
  {
   "cell_type": "code",
   "execution_count": 28,
   "metadata": {},
   "outputs": [
    {
     "data": {
      "text/plain": [
       "default  pay_sum\n",
       "0        0.0        14055\n",
       "         1.0         2506\n",
       "         2.0          923\n",
       "         3.0          458\n",
       "         4.0          333\n",
       "         6.0          314\n",
       "         5.0          102\n",
       "1        0.0         1880\n",
       "         1.0         1063\n",
       "         6.0          753\n",
       "         2.0          566\n",
       "         3.0          474\n",
       "         4.0          435\n",
       "         5.0          137\n",
       "Name: pay_sum, dtype: int64"
      ]
     },
     "execution_count": 28,
     "metadata": {},
     "output_type": "execute_result"
    }
   ],
   "source": [
    "# Adding a new column that might be useful\n",
    "# Is a continuous column that is the addition or total number of times\n",
    "# Individual was late on payment over the past 6 months\n",
    "# Experimental feature\n",
    "df2['pay_sum'] = df2.apply(lambda row: row.pay_0 + row.pay_2 + row.pay_3 + row.pay_4 + row.pay_5 + row.pay_6, axis=1)\n",
    "\n",
    "# View to see\n",
    "df2.head()\n",
    "df2.groupby('default')['pay_sum'].value_counts()"
   ]
  },
  {
   "cell_type": "markdown",
   "metadata": {},
   "source": [
    "Here is a good question: `Is the proportion of those who defaulted having multiple late payments higher than that of those who did not default?`  \n",
    "  \n",
    "\n",
    "Another good question: `Is the proportion of those who defaulted having zero late payments lower than that of those who did not default?`"
   ]
  },
  {
   "cell_type": "code",
   "execution_count": null,
   "metadata": {},
   "outputs": [],
   "source": []
  }
 ],
 "metadata": {
  "kernelspec": {
   "display_name": "Python 3",
   "language": "python",
   "name": "python3"
  },
  "language_info": {
   "codemirror_mode": {
    "name": "ipython",
    "version": 3
   },
   "file_extension": ".py",
   "mimetype": "text/x-python",
   "name": "python",
   "nbconvert_exporter": "python",
   "pygments_lexer": "ipython3",
   "version": "3.7.4"
  }
 },
 "nbformat": 4,
 "nbformat_minor": 2
}
