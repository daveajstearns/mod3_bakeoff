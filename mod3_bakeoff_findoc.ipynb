{
 "cells": [
  {
   "cell_type": "code",
   "execution_count": 4,
   "metadata": {},
   "outputs": [],
   "source": [
    "# import libraries\n",
    "import pandas as pd\n",
    "import seaborn as sns\n",
    "import matplotlib.pyplot as plt\n",
    "import numpy as np\n",
    "%matplotlib inline\n",
    "import sklearn\n",
    "import warnings\n",
    "warnings.filterwarnings('ignore')\n",
    "pd.set_option('display.max_columns', None)\n",
    "from sklearn.model_selection import train_test_split\n",
    "from sklearn import linear_model\n",
    "from sklearn.metrics import mean_squared_error\n",
    "from sklearn.metrics import mean_absolute_error\n",
    "#\n",
    "from sklearn.preprocessing import PolynomialFeatures\n",
    "poly = PolynomialFeatures()\n",
    "#\n",
    "import os\n",
    "import numpy as np\n",
    "import scipy.stats as stats\n",
    "from statsmodels.formula.api import ols\n",
    "import statsmodels.api as sm\n",
    "import matplotlib.pyplot as plt\n",
    "import seaborn as sns\n",
    "%matplotlib inline\n",
    "from statsmodels.stats.multicomp import pairwise_tukeyhsd\n",
    "from statsmodels.stats.multicomp import MultiComparison\n",
    "#\n",
    "from sklearn.preprocessing import LabelEncoder\n",
    "make_lb = LabelEncoder()\n",
    "#\n",
    "from sklearn.preprocessing import LabelBinarizer\n",
    "lbb = LabelBinarizer()\n",
    "from sklearn.preprocessing import StandardScaler\n",
    "scaler = StandardScaler()\n",
    "from sklearn.preprocessing import MinMaxScaler\n",
    "minmax = MinMaxScaler()\n",
    "from sklearn.linear_model import LogisticRegression\n",
    "from sklearn.metrics import classification_report\n",
    "from sklearn.metrics import roc_curve, auc\n",
    "import pickle\n",
    "from sklearn.neighbors import KNeighborsClassifier\n",
    "from sklearn.tree import DecisionTreeClassifier\n",
    "from sklearn.linear_model import LogisticRegressionCV\n",
    "from sklearn.metrics import precision_score, recall_score, f1_score\n",
    "from sklearn.model_selection import cross_val_score\n",
    "from sklearn.model_selection import cross_validate\n",
    "from sklearn.feature_selection import RFECV"
   ]
  },
  {
   "cell_type": "code",
   "execution_count": 2,
   "metadata": {
    "scrolled": true
   },
   "outputs": [
    {
     "data": {
      "text/html": [
       "<div>\n",
       "<style scoped>\n",
       "    .dataframe tbody tr th:only-of-type {\n",
       "        vertical-align: middle;\n",
       "    }\n",
       "\n",
       "    .dataframe tbody tr th {\n",
       "        vertical-align: top;\n",
       "    }\n",
       "\n",
       "    .dataframe thead th {\n",
       "        text-align: right;\n",
       "    }\n",
       "</style>\n",
       "<table border=\"1\" class=\"dataframe\">\n",
       "  <thead>\n",
       "    <tr style=\"text-align: right;\">\n",
       "      <th></th>\n",
       "      <th>ID</th>\n",
       "      <th>LIMIT_BAL</th>\n",
       "      <th>SEX</th>\n",
       "      <th>EDUCATION</th>\n",
       "      <th>MARRIAGE</th>\n",
       "      <th>AGE</th>\n",
       "      <th>PAY_0</th>\n",
       "      <th>default payment next month</th>\n",
       "      <th>avg_utilization</th>\n",
       "      <th>avg_payment_impact</th>\n",
       "      <th>debt_streak</th>\n",
       "      <th>debt_avg_delta</th>\n",
       "      <th>payment_improvements</th>\n",
       "      <th>PAY_0N1</th>\n",
       "      <th>PAY_0N2</th>\n",
       "    </tr>\n",
       "  </thead>\n",
       "  <tbody>\n",
       "    <tr>\n",
       "      <td>0</td>\n",
       "      <td>2873.0</td>\n",
       "      <td>350000.0</td>\n",
       "      <td>1.0</td>\n",
       "      <td>1.0</td>\n",
       "      <td>2.0</td>\n",
       "      <td>37.0</td>\n",
       "      <td>0</td>\n",
       "      <td>0.0</td>\n",
       "      <td>0.001046</td>\n",
       "      <td>0.001046</td>\n",
       "      <td>0.0</td>\n",
       "      <td>0.000000</td>\n",
       "      <td>0.0</td>\n",
       "      <td>0</td>\n",
       "      <td>0</td>\n",
       "    </tr>\n",
       "    <tr>\n",
       "      <td>1</td>\n",
       "      <td>3598.0</td>\n",
       "      <td>50000.0</td>\n",
       "      <td>2.0</td>\n",
       "      <td>2.0</td>\n",
       "      <td>1.0</td>\n",
       "      <td>37.0</td>\n",
       "      <td>2</td>\n",
       "      <td>0.0</td>\n",
       "      <td>0.542003</td>\n",
       "      <td>0.026267</td>\n",
       "      <td>0.0</td>\n",
       "      <td>0.000000</td>\n",
       "      <td>0.0</td>\n",
       "      <td>0</td>\n",
       "      <td>0</td>\n",
       "    </tr>\n",
       "    <tr>\n",
       "      <td>2</td>\n",
       "      <td>27623.0</td>\n",
       "      <td>50000.0</td>\n",
       "      <td>2.0</td>\n",
       "      <td>1.0</td>\n",
       "      <td>2.0</td>\n",
       "      <td>23.0</td>\n",
       "      <td>0</td>\n",
       "      <td>0.0</td>\n",
       "      <td>0.078257</td>\n",
       "      <td>0.077063</td>\n",
       "      <td>2.0</td>\n",
       "      <td>0.011310</td>\n",
       "      <td>0.0</td>\n",
       "      <td>1</td>\n",
       "      <td>1</td>\n",
       "    </tr>\n",
       "    <tr>\n",
       "      <td>3</td>\n",
       "      <td>6874.0</td>\n",
       "      <td>20000.0</td>\n",
       "      <td>1.0</td>\n",
       "      <td>3.0</td>\n",
       "      <td>1.0</td>\n",
       "      <td>56.0</td>\n",
       "      <td>0</td>\n",
       "      <td>0.0</td>\n",
       "      <td>0.639975</td>\n",
       "      <td>0.041567</td>\n",
       "      <td>0.0</td>\n",
       "      <td>0.000000</td>\n",
       "      <td>1.0</td>\n",
       "      <td>0</td>\n",
       "      <td>0</td>\n",
       "    </tr>\n",
       "    <tr>\n",
       "      <td>4</td>\n",
       "      <td>6444.0</td>\n",
       "      <td>110000.0</td>\n",
       "      <td>2.0</td>\n",
       "      <td>2.0</td>\n",
       "      <td>2.0</td>\n",
       "      <td>32.0</td>\n",
       "      <td>0</td>\n",
       "      <td>0.0</td>\n",
       "      <td>0.983186</td>\n",
       "      <td>0.041364</td>\n",
       "      <td>1.0</td>\n",
       "      <td>0.012245</td>\n",
       "      <td>0.0</td>\n",
       "      <td>0</td>\n",
       "      <td>0</td>\n",
       "    </tr>\n",
       "  </tbody>\n",
       "</table>\n",
       "</div>"
      ],
      "text/plain": [
       "        ID  LIMIT_BAL  SEX  EDUCATION  MARRIAGE   AGE  PAY_0  \\\n",
       "0   2873.0   350000.0  1.0        1.0       2.0  37.0      0   \n",
       "1   3598.0    50000.0  2.0        2.0       1.0  37.0      2   \n",
       "2  27623.0    50000.0  2.0        1.0       2.0  23.0      0   \n",
       "3   6874.0    20000.0  1.0        3.0       1.0  56.0      0   \n",
       "4   6444.0   110000.0  2.0        2.0       2.0  32.0      0   \n",
       "\n",
       "   default payment next month  avg_utilization  avg_payment_impact  \\\n",
       "0                         0.0         0.001046            0.001046   \n",
       "1                         0.0         0.542003            0.026267   \n",
       "2                         0.0         0.078257            0.077063   \n",
       "3                         0.0         0.639975            0.041567   \n",
       "4                         0.0         0.983186            0.041364   \n",
       "\n",
       "   debt_streak  debt_avg_delta  payment_improvements  PAY_0N1  PAY_0N2  \n",
       "0          0.0        0.000000                   0.0        0        0  \n",
       "1          0.0        0.000000                   0.0        0        0  \n",
       "2          2.0        0.011310                   0.0        1        1  \n",
       "3          0.0        0.000000                   1.0        0        0  \n",
       "4          1.0        0.012245                   0.0        0        0  "
      ]
     },
     "execution_count": 2,
     "metadata": {},
     "output_type": "execute_result"
    }
   ],
   "source": [
    "with open('df_trimmed.pickle', 'rb') as f:\n",
    "    # The protocol version used is detected automatically, so we do not\n",
    "    # have to specify it.\n",
    "    df_final = pickle.load(f)\n",
    "df_final.head()"
   ]
  },
  {
   "cell_type": "code",
   "execution_count": 3,
   "metadata": {},
   "outputs": [],
   "source": [
    "df_final.drop(columns=['ID'], axis=1, inplace=True)"
   ]
  },
  {
   "cell_type": "markdown",
   "metadata": {},
   "source": [
    "### General Layout\n",
    "\n",
    "`rfecv = RFECV(estimator=MODEL, step=1, cv=,\n",
    "              scoring='accuracy')`"
   ]
  },
  {
   "cell_type": "code",
   "execution_count": 5,
   "metadata": {},
   "outputs": [
    {
     "data": {
      "text/html": [
       "<div>\n",
       "<style scoped>\n",
       "    .dataframe tbody tr th:only-of-type {\n",
       "        vertical-align: middle;\n",
       "    }\n",
       "\n",
       "    .dataframe tbody tr th {\n",
       "        vertical-align: top;\n",
       "    }\n",
       "\n",
       "    .dataframe thead th {\n",
       "        text-align: right;\n",
       "    }\n",
       "</style>\n",
       "<table border=\"1\" class=\"dataframe\">\n",
       "  <thead>\n",
       "    <tr style=\"text-align: right;\">\n",
       "      <th></th>\n",
       "      <th>limit_bal</th>\n",
       "      <th>sex</th>\n",
       "      <th>education</th>\n",
       "      <th>marriage</th>\n",
       "      <th>age</th>\n",
       "      <th>pay_0</th>\n",
       "      <th>default</th>\n",
       "      <th>avg_utilization</th>\n",
       "      <th>avg_payment_impact</th>\n",
       "      <th>debt_streak</th>\n",
       "      <th>debt_avg_delta</th>\n",
       "      <th>payment_improvements</th>\n",
       "      <th>pay_0n1</th>\n",
       "      <th>pay_0n2</th>\n",
       "    </tr>\n",
       "  </thead>\n",
       "  <tbody>\n",
       "    <tr>\n",
       "      <td>0</td>\n",
       "      <td>350000.0</td>\n",
       "      <td>1.0</td>\n",
       "      <td>1.0</td>\n",
       "      <td>2.0</td>\n",
       "      <td>37.0</td>\n",
       "      <td>0</td>\n",
       "      <td>0.0</td>\n",
       "      <td>0.001046</td>\n",
       "      <td>0.001046</td>\n",
       "      <td>0.0</td>\n",
       "      <td>0.000000</td>\n",
       "      <td>0.0</td>\n",
       "      <td>0</td>\n",
       "      <td>0</td>\n",
       "    </tr>\n",
       "    <tr>\n",
       "      <td>1</td>\n",
       "      <td>50000.0</td>\n",
       "      <td>2.0</td>\n",
       "      <td>2.0</td>\n",
       "      <td>1.0</td>\n",
       "      <td>37.0</td>\n",
       "      <td>2</td>\n",
       "      <td>0.0</td>\n",
       "      <td>0.542003</td>\n",
       "      <td>0.026267</td>\n",
       "      <td>0.0</td>\n",
       "      <td>0.000000</td>\n",
       "      <td>0.0</td>\n",
       "      <td>0</td>\n",
       "      <td>0</td>\n",
       "    </tr>\n",
       "    <tr>\n",
       "      <td>2</td>\n",
       "      <td>50000.0</td>\n",
       "      <td>2.0</td>\n",
       "      <td>1.0</td>\n",
       "      <td>2.0</td>\n",
       "      <td>23.0</td>\n",
       "      <td>0</td>\n",
       "      <td>0.0</td>\n",
       "      <td>0.078257</td>\n",
       "      <td>0.077063</td>\n",
       "      <td>2.0</td>\n",
       "      <td>0.011310</td>\n",
       "      <td>0.0</td>\n",
       "      <td>1</td>\n",
       "      <td>1</td>\n",
       "    </tr>\n",
       "    <tr>\n",
       "      <td>3</td>\n",
       "      <td>20000.0</td>\n",
       "      <td>1.0</td>\n",
       "      <td>3.0</td>\n",
       "      <td>1.0</td>\n",
       "      <td>56.0</td>\n",
       "      <td>0</td>\n",
       "      <td>0.0</td>\n",
       "      <td>0.639975</td>\n",
       "      <td>0.041567</td>\n",
       "      <td>0.0</td>\n",
       "      <td>0.000000</td>\n",
       "      <td>1.0</td>\n",
       "      <td>0</td>\n",
       "      <td>0</td>\n",
       "    </tr>\n",
       "    <tr>\n",
       "      <td>4</td>\n",
       "      <td>110000.0</td>\n",
       "      <td>2.0</td>\n",
       "      <td>2.0</td>\n",
       "      <td>2.0</td>\n",
       "      <td>32.0</td>\n",
       "      <td>0</td>\n",
       "      <td>0.0</td>\n",
       "      <td>0.983186</td>\n",
       "      <td>0.041364</td>\n",
       "      <td>1.0</td>\n",
       "      <td>0.012245</td>\n",
       "      <td>0.0</td>\n",
       "      <td>0</td>\n",
       "      <td>0</td>\n",
       "    </tr>\n",
       "  </tbody>\n",
       "</table>\n",
       "</div>"
      ],
      "text/plain": [
       "   limit_bal  sex  education  marriage   age  pay_0  default  avg_utilization  \\\n",
       "0   350000.0  1.0        1.0       2.0  37.0      0      0.0         0.001046   \n",
       "1    50000.0  2.0        2.0       1.0  37.0      2      0.0         0.542003   \n",
       "2    50000.0  2.0        1.0       2.0  23.0      0      0.0         0.078257   \n",
       "3    20000.0  1.0        3.0       1.0  56.0      0      0.0         0.639975   \n",
       "4   110000.0  2.0        2.0       2.0  32.0      0      0.0         0.983186   \n",
       "\n",
       "   avg_payment_impact  debt_streak  debt_avg_delta  payment_improvements  \\\n",
       "0            0.001046          0.0        0.000000                   0.0   \n",
       "1            0.026267          0.0        0.000000                   0.0   \n",
       "2            0.077063          2.0        0.011310                   0.0   \n",
       "3            0.041567          0.0        0.000000                   1.0   \n",
       "4            0.041364          1.0        0.012245                   0.0   \n",
       "\n",
       "   pay_0n1  pay_0n2  \n",
       "0        0        0  \n",
       "1        0        0  \n",
       "2        1        1  \n",
       "3        0        0  \n",
       "4        0        0  "
      ]
     },
     "execution_count": 5,
     "metadata": {},
     "output_type": "execute_result"
    }
   ],
   "source": [
    "df_final.rename(columns={'default payment next month':'default'}, inplace=True)\n",
    "df_final.columns=df_final.columns.str.lower()\n",
    "df_final.head()"
   ]
  },
  {
   "cell_type": "markdown",
   "metadata": {},
   "source": [
    "### I have to run my three base models with this data in order to see how it performs once I start to use a feature elimination module.\n"
   ]
  },
  {
   "cell_type": "markdown",
   "metadata": {},
   "source": [
    "---"
   ]
  },
  {
   "cell_type": "markdown",
   "metadata": {},
   "source": [
    "### Baseline Logistic Regression Model"
   ]
  },
  {
   "cell_type": "code",
   "execution_count": 6,
   "metadata": {},
   "outputs": [],
   "source": [
    "# Preparing data for the model\n",
    "df_fin_mms = df_final\n",
    "df_fin_mms = minmax.fit_transform(df_fin_mms)"
   ]
  },
  {
   "cell_type": "code",
   "execution_count": 7,
   "metadata": {},
   "outputs": [
    {
     "data": {
      "text/html": [
       "<div>\n",
       "<style scoped>\n",
       "    .dataframe tbody tr th:only-of-type {\n",
       "        vertical-align: middle;\n",
       "    }\n",
       "\n",
       "    .dataframe tbody tr th {\n",
       "        vertical-align: top;\n",
       "    }\n",
       "\n",
       "    .dataframe thead th {\n",
       "        text-align: right;\n",
       "    }\n",
       "</style>\n",
       "<table border=\"1\" class=\"dataframe\">\n",
       "  <thead>\n",
       "    <tr style=\"text-align: right;\">\n",
       "      <th></th>\n",
       "      <th>limit_bal</th>\n",
       "      <th>sex</th>\n",
       "      <th>education</th>\n",
       "      <th>marriage</th>\n",
       "      <th>age</th>\n",
       "      <th>pay_0</th>\n",
       "      <th>default</th>\n",
       "      <th>avg_utilization</th>\n",
       "      <th>avg_payment_impact</th>\n",
       "      <th>debt_streak</th>\n",
       "      <th>debt_avg_delta</th>\n",
       "      <th>payment_improvements</th>\n",
       "      <th>pay_0n1</th>\n",
       "      <th>pay_0n2</th>\n",
       "    </tr>\n",
       "  </thead>\n",
       "  <tbody>\n",
       "    <tr>\n",
       "      <td>0</td>\n",
       "      <td>0.343434</td>\n",
       "      <td>0.0</td>\n",
       "      <td>0.166667</td>\n",
       "      <td>0.666667</td>\n",
       "      <td>0.275862</td>\n",
       "      <td>0.00</td>\n",
       "      <td>0.0</td>\n",
       "      <td>0.036158</td>\n",
       "      <td>0.000431</td>\n",
       "      <td>0.0</td>\n",
       "      <td>0.000000</td>\n",
       "      <td>0.0</td>\n",
       "      <td>0.0</td>\n",
       "      <td>0.0</td>\n",
       "    </tr>\n",
       "    <tr>\n",
       "      <td>1</td>\n",
       "      <td>0.040404</td>\n",
       "      <td>1.0</td>\n",
       "      <td>0.333333</td>\n",
       "      <td>0.333333</td>\n",
       "      <td>0.275862</td>\n",
       "      <td>0.25</td>\n",
       "      <td>0.0</td>\n",
       "      <td>0.133375</td>\n",
       "      <td>0.010819</td>\n",
       "      <td>0.0</td>\n",
       "      <td>0.000000</td>\n",
       "      <td>0.0</td>\n",
       "      <td>0.0</td>\n",
       "      <td>0.0</td>\n",
       "    </tr>\n",
       "    <tr>\n",
       "      <td>2</td>\n",
       "      <td>0.040404</td>\n",
       "      <td>1.0</td>\n",
       "      <td>0.166667</td>\n",
       "      <td>0.666667</td>\n",
       "      <td>0.034483</td>\n",
       "      <td>0.00</td>\n",
       "      <td>0.0</td>\n",
       "      <td>0.050034</td>\n",
       "      <td>0.031743</td>\n",
       "      <td>0.4</td>\n",
       "      <td>0.004299</td>\n",
       "      <td>0.0</td>\n",
       "      <td>1.0</td>\n",
       "      <td>1.0</td>\n",
       "    </tr>\n",
       "    <tr>\n",
       "      <td>3</td>\n",
       "      <td>0.010101</td>\n",
       "      <td>0.0</td>\n",
       "      <td>0.500000</td>\n",
       "      <td>0.333333</td>\n",
       "      <td>0.603448</td>\n",
       "      <td>0.00</td>\n",
       "      <td>0.0</td>\n",
       "      <td>0.150981</td>\n",
       "      <td>0.017122</td>\n",
       "      <td>0.0</td>\n",
       "      <td>0.000000</td>\n",
       "      <td>0.2</td>\n",
       "      <td>0.0</td>\n",
       "      <td>0.0</td>\n",
       "    </tr>\n",
       "    <tr>\n",
       "      <td>4</td>\n",
       "      <td>0.101010</td>\n",
       "      <td>1.0</td>\n",
       "      <td>0.333333</td>\n",
       "      <td>0.666667</td>\n",
       "      <td>0.189655</td>\n",
       "      <td>0.00</td>\n",
       "      <td>0.0</td>\n",
       "      <td>0.212660</td>\n",
       "      <td>0.017038</td>\n",
       "      <td>0.2</td>\n",
       "      <td>0.004655</td>\n",
       "      <td>0.0</td>\n",
       "      <td>0.0</td>\n",
       "      <td>0.0</td>\n",
       "    </tr>\n",
       "  </tbody>\n",
       "</table>\n",
       "</div>"
      ],
      "text/plain": [
       "   limit_bal  sex  education  marriage       age  pay_0  default  \\\n",
       "0   0.343434  0.0   0.166667  0.666667  0.275862   0.00      0.0   \n",
       "1   0.040404  1.0   0.333333  0.333333  0.275862   0.25      0.0   \n",
       "2   0.040404  1.0   0.166667  0.666667  0.034483   0.00      0.0   \n",
       "3   0.010101  0.0   0.500000  0.333333  0.603448   0.00      0.0   \n",
       "4   0.101010  1.0   0.333333  0.666667  0.189655   0.00      0.0   \n",
       "\n",
       "   avg_utilization  avg_payment_impact  debt_streak  debt_avg_delta  \\\n",
       "0         0.036158            0.000431          0.0        0.000000   \n",
       "1         0.133375            0.010819          0.0        0.000000   \n",
       "2         0.050034            0.031743          0.4        0.004299   \n",
       "3         0.150981            0.017122          0.0        0.000000   \n",
       "4         0.212660            0.017038          0.2        0.004655   \n",
       "\n",
       "   payment_improvements  pay_0n1  pay_0n2  \n",
       "0                   0.0      0.0      0.0  \n",
       "1                   0.0      0.0      0.0  \n",
       "2                   0.0      1.0      1.0  \n",
       "3                   0.2      0.0      0.0  \n",
       "4                   0.0      0.0      0.0  "
      ]
     },
     "execution_count": 7,
     "metadata": {},
     "output_type": "execute_result"
    }
   ],
   "source": [
    "df_fin_mms = pd.DataFrame(df_fin_mms, columns=df_final.columns)\n",
    "df_fin_mms.head()"
   ]
  },
  {
   "cell_type": "code",
   "execution_count": 8,
   "metadata": {},
   "outputs": [],
   "source": [
    "y = df_fin_mms['default']\n",
    "X = df_fin_mms.drop(columns=['default'], axis=1)"
   ]
  },
  {
   "cell_type": "code",
   "execution_count": 9,
   "metadata": {},
   "outputs": [],
   "source": [
    "logreg_base = LogisticRegressionCV(random_state=42, cv=5, scoring = 'accuracy')\n",
    "base_lr = logreg_base.fit(X, y)"
   ]
  },
  {
   "cell_type": "code",
   "execution_count": 14,
   "metadata": {},
   "outputs": [
    {
     "data": {
      "text/plain": [
       "{'fit_time': array([1.43056703, 1.48034191, 1.44199896, 1.28604078, 1.38346505]),\n",
       " 'score_time': array([0.01511312, 0.01458097, 0.01620579, 0.01441717, 0.013623  ]),\n",
       " 'test_f1': array([0.46029777, 0.45083014, 0.47195122, 0.42637644, 0.48406863]),\n",
       " 'test_recall': array([0.34934087, 0.33239171, 0.36440678, 0.31385485, 0.37229029]),\n",
       " 'test_precision': array([0.67454545, 0.70039683, 0.66955017, 0.66467066, 0.69176883]),\n",
       " 'test_accuracy': array([0.81878775, 0.82083333, 0.81958333, 0.81329444, 0.82454678])}"
      ]
     },
     "execution_count": 14,
     "metadata": {},
     "output_type": "execute_result"
    }
   ],
   "source": [
    "cross_validate(logreg_base, X, y, scoring=['f1', 'recall', 'precision', 'accuracy'], cv=5)"
   ]
  },
  {
   "cell_type": "code",
   "execution_count": 16,
   "metadata": {},
   "outputs": [
    {
     "name": "stdout",
     "output_type": "stream",
     "text": [
      "test_f1: 0.45870484000000006\n",
      "test_recall: 0.3464569\n",
      "test_precision: 0.680186388\n",
      "test_accuracy: 0.819409126\n"
     ]
    }
   ],
   "source": [
    "# Probably a better way of doing this\n",
    "test_f1 = np.mean([0.46029777, 0.45083014, 0.47195122, 0.42637644, 0.48406863])\n",
    "test_recall = np.mean([0.34934087, 0.33239171, 0.36440678, 0.31385485, 0.37229029])\n",
    "test_precision = np.mean([0.67454545, 0.70039683, 0.66955017, 0.66467066, 0.69176883])\n",
    "test_accuracy = np.mean([0.81878775, 0.82083333, 0.81958333, 0.81329444, 0.82454678])\n",
    "print('test_f1:', test_f1)\n",
    "print('test_recall:', test_recall)\n",
    "print('test_precision:', test_precision)\n",
    "print('test_accuracy:', test_accuracy)"
   ]
  },
  {
   "cell_type": "markdown",
   "metadata": {},
   "source": [
    "---"
   ]
  },
  {
   "cell_type": "markdown",
   "metadata": {},
   "source": [
    "### Baseline KNN Model"
   ]
  },
  {
   "cell_type": "code",
   "execution_count": 12,
   "metadata": {},
   "outputs": [],
   "source": [
    "knn = KNeighborsClassifier()"
   ]
  },
  {
   "cell_type": "code",
   "execution_count": 13,
   "metadata": {},
   "outputs": [
    {
     "data": {
      "text/plain": [
       "{'fit_time': array([0.1059792 , 0.07364297, 0.07256985, 0.13773799, 0.07400608]),\n",
       " 'score_time': array([1.84436679, 1.57892895, 1.60476208, 1.76483202, 1.61518502]),\n",
       " 'test_f1': array([0.41520468, 0.42747188, 0.41743119, 0.41852286, 0.43367935]),\n",
       " 'test_recall': array([0.33427495, 0.33992467, 0.34274953, 0.33647502, 0.35438266]),\n",
       " 'test_precision': array([0.54783951, 0.57575758, 0.53372434, 0.55348837, 0.55869242]),\n",
       " 'test_accuracy': array([0.79171006, 0.79854167, 0.78833333, 0.79329027, 0.79537404])}"
      ]
     },
     "execution_count": 13,
     "metadata": {},
     "output_type": "execute_result"
    }
   ],
   "source": [
    "cross_validate(knn, X, y, scoring=['f1', 'recall', 'precision', 'accuracy'], cv=5)"
   ]
  },
  {
   "cell_type": "code",
   "execution_count": 15,
   "metadata": {},
   "outputs": [
    {
     "name": "stdout",
     "output_type": "stream",
     "text": [
      "test_f1: 0.422461992\n",
      "test_recall: 0.341561366\n",
      "test_precision: 0.5539004439999999\n",
      "test_accuracy: 0.793449874\n"
     ]
    }
   ],
   "source": [
    "# Probably a better way of doing this\n",
    "test_f1 = np.mean([0.41520468, 0.42747188, 0.41743119, 0.41852286, 0.43367935])\n",
    "test_recall = np.mean([0.33427495, 0.33992467, 0.34274953, 0.33647502, 0.35438266])\n",
    "test_precision = np.mean([0.54783951, 0.57575758, 0.53372434, 0.55348837, 0.55869242])\n",
    "test_accuracy = np.mean([0.79171006, 0.79854167, 0.78833333, 0.79329027, 0.79537404])\n",
    "print('test_f1:', test_f1)\n",
    "print('test_recall:', test_recall)\n",
    "print('test_precision:', test_precision)\n",
    "print('test_accuracy:', test_accuracy)"
   ]
  },
  {
   "cell_type": "markdown",
   "metadata": {},
   "source": [
    "---"
   ]
  },
  {
   "cell_type": "markdown",
   "metadata": {},
   "source": [
    "### DecisionTreeClassifier Base Model"
   ]
  },
  {
   "cell_type": "code",
   "execution_count": 17,
   "metadata": {},
   "outputs": [],
   "source": [
    "dt_base = DecisionTreeClassifier(random_state=42)"
   ]
  },
  {
   "cell_type": "code",
   "execution_count": 18,
   "metadata": {},
   "outputs": [
    {
     "data": {
      "text/plain": [
       "{'fit_time': array([0.1804781 , 0.13114905, 0.12765884, 0.17276382, 0.13921213]),\n",
       " 'score_time': array([0.01597786, 0.01603675, 0.01904011, 0.02118206, 0.01590109]),\n",
       " 'test_f1': array([0.37683824, 0.38942976, 0.406165  , 0.38906606, 0.43054935]),\n",
       " 'test_recall': array([0.38606403, 0.39548023, 0.42184557, 0.40245052, 0.45428841]),\n",
       " 'test_precision': array([0.36804309, 0.38356164, 0.39160839, 0.37654321, 0.40916808]),\n",
       " 'test_accuracy': array([0.71755884, 0.725625  , 0.72708333, 0.72056678, 0.73431965])}"
      ]
     },
     "execution_count": 18,
     "metadata": {},
     "output_type": "execute_result"
    }
   ],
   "source": [
    "cross_validate(dt_base, X, y, scoring=['f1', 'recall', 'precision', 'accuracy'], cv=5)"
   ]
  },
  {
   "cell_type": "code",
   "execution_count": 19,
   "metadata": {},
   "outputs": [
    {
     "name": "stdout",
     "output_type": "stream",
     "text": [
      "test_f1: 0.39840968199999993\n",
      "test_recall: 0.4120257519999999\n",
      "test_precision: 0.38578488199999994\n",
      "test_accuracy: 0.72503072\n"
     ]
    }
   ],
   "source": [
    "test_f1 = np.mean([0.37683824, 0.38942976, 0.406165  , 0.38906606, 0.43054935])\n",
    "test_recall = np.mean([0.38606403, 0.39548023, 0.42184557, 0.40245052, 0.45428841])\n",
    "test_precision = np.mean([0.36804309, 0.38356164, 0.39160839, 0.37654321, 0.40916808])\n",
    "test_accuracy = np.mean([0.71755884, 0.725625  , 0.72708333, 0.72056678, 0.73431965])\n",
    "print('test_f1:', test_f1)\n",
    "print('test_recall:', test_recall)\n",
    "print('test_precision:', test_precision)\n",
    "print('test_accuracy:', test_accuracy)"
   ]
  },
  {
   "cell_type": "markdown",
   "metadata": {},
   "source": [
    "---"
   ]
  },
  {
   "cell_type": "markdown",
   "metadata": {},
   "source": [
    "### Time to check out RFECV\n"
   ]
  },
  {
   "cell_type": "code",
   "execution_count": 20,
   "metadata": {},
   "outputs": [],
   "source": [
    "# KNN doesn't support this\n",
    "rfecv_lg = RFECV(estimator=logreg_base, step=1, min_features_to_select=10, cv=5,\n",
    "              scoring='accuracy')\n",
    "rfecv_dt = RFECV(estimator=dt_base, step=1, min_features_to_select=10, cv=5,\n",
    "              scoring='accuracy')"
   ]
  },
  {
   "cell_type": "code",
   "execution_count": 21,
   "metadata": {},
   "outputs": [
    {
     "data": {
      "text/plain": [
       "RFECV(cv=5,\n",
       "      estimator=DecisionTreeClassifier(class_weight=None, criterion='gini',\n",
       "                                       max_depth=None, max_features=None,\n",
       "                                       max_leaf_nodes=None,\n",
       "                                       min_impurity_decrease=0.0,\n",
       "                                       min_impurity_split=None,\n",
       "                                       min_samples_leaf=1, min_samples_split=2,\n",
       "                                       min_weight_fraction_leaf=0.0,\n",
       "                                       presort=False, random_state=42,\n",
       "                                       splitter='best'),\n",
       "      min_features_to_select=10, n_jobs=None, scoring='accuracy', step=1,\n",
       "      verbose=0)"
      ]
     },
     "execution_count": 21,
     "metadata": {},
     "output_type": "execute_result"
    }
   ],
   "source": [
    "rfecv_lg.fit(X,y)\n",
    "rfecv_dt.fit(X,y)"
   ]
  },
  {
   "cell_type": "code",
   "execution_count": 22,
   "metadata": {},
   "outputs": [],
   "source": [
    "lg_feats = pd.DataFrame(rfecv_lg.ranking_)\n",
    "dt_feats = pd.DataFrame(rfecv_dt.ranking_)"
   ]
  },
  {
   "cell_type": "code",
   "execution_count": 23,
   "metadata": {},
   "outputs": [],
   "source": [
    "# Generating the feature selection for LogReg\n",
    "lg_feats = lg_feats.T\n",
    "lg_feats.rename(columns={0:X.columns[0], 1:X.columns[1], 2:X.columns[2], 3:X.columns[3], 4:X.columns[4],\n",
    "                         5:X.columns[5], 6:X.columns[6], 7:X.columns[7], 8:X.columns[8], 9:X.columns[9],\n",
    "                         10:X.columns[10], 11:X.columns[11], 12:X.columns[12]}, inplace=True)"
   ]
  },
  {
   "cell_type": "code",
   "execution_count": 24,
   "metadata": {},
   "outputs": [
    {
     "data": {
      "text/html": [
       "<div>\n",
       "<style scoped>\n",
       "    .dataframe tbody tr th:only-of-type {\n",
       "        vertical-align: middle;\n",
       "    }\n",
       "\n",
       "    .dataframe tbody tr th {\n",
       "        vertical-align: top;\n",
       "    }\n",
       "\n",
       "    .dataframe thead th {\n",
       "        text-align: right;\n",
       "    }\n",
       "</style>\n",
       "<table border=\"1\" class=\"dataframe\">\n",
       "  <thead>\n",
       "    <tr style=\"text-align: right;\">\n",
       "      <th></th>\n",
       "      <th>Feature Ranks</th>\n",
       "    </tr>\n",
       "  </thead>\n",
       "  <tbody>\n",
       "    <tr>\n",
       "      <td>limit_bal</td>\n",
       "      <td>1</td>\n",
       "    </tr>\n",
       "    <tr>\n",
       "      <td>sex</td>\n",
       "      <td>1</td>\n",
       "    </tr>\n",
       "    <tr>\n",
       "      <td>education</td>\n",
       "      <td>1</td>\n",
       "    </tr>\n",
       "    <tr>\n",
       "      <td>marriage</td>\n",
       "      <td>1</td>\n",
       "    </tr>\n",
       "    <tr>\n",
       "      <td>age</td>\n",
       "      <td>1</td>\n",
       "    </tr>\n",
       "    <tr>\n",
       "      <td>pay_0</td>\n",
       "      <td>1</td>\n",
       "    </tr>\n",
       "    <tr>\n",
       "      <td>avg_utilization</td>\n",
       "      <td>1</td>\n",
       "    </tr>\n",
       "    <tr>\n",
       "      <td>avg_payment_impact</td>\n",
       "      <td>1</td>\n",
       "    </tr>\n",
       "    <tr>\n",
       "      <td>debt_streak</td>\n",
       "      <td>1</td>\n",
       "    </tr>\n",
       "    <tr>\n",
       "      <td>debt_avg_delta</td>\n",
       "      <td>2</td>\n",
       "    </tr>\n",
       "    <tr>\n",
       "      <td>payment_improvements</td>\n",
       "      <td>1</td>\n",
       "    </tr>\n",
       "    <tr>\n",
       "      <td>pay_0n1</td>\n",
       "      <td>1</td>\n",
       "    </tr>\n",
       "    <tr>\n",
       "      <td>pay_0n2</td>\n",
       "      <td>1</td>\n",
       "    </tr>\n",
       "  </tbody>\n",
       "</table>\n",
       "</div>"
      ],
      "text/plain": [
       "                      Feature Ranks\n",
       "limit_bal                         1\n",
       "sex                               1\n",
       "education                         1\n",
       "marriage                          1\n",
       "age                               1\n",
       "pay_0                             1\n",
       "avg_utilization                   1\n",
       "avg_payment_impact                1\n",
       "debt_streak                       1\n",
       "debt_avg_delta                    2\n",
       "payment_improvements              1\n",
       "pay_0n1                           1\n",
       "pay_0n2                           1"
      ]
     },
     "execution_count": 24,
     "metadata": {},
     "output_type": "execute_result"
    }
   ],
   "source": [
    "lg_feats = lg_feats.T\n",
    "lg_feats.rename(columns={0:'Feature Ranks'}, inplace=True)\n",
    "lg_feats"
   ]
  },
  {
   "cell_type": "code",
   "execution_count": 25,
   "metadata": {},
   "outputs": [],
   "source": [
    "# Generating the feature selection for DecTree\n",
    "dt_feats = dt_feats.T\n",
    "dt_feats.rename(columns={0:X.columns[0], 1:X.columns[1], 2:X.columns[2], 3:X.columns[3], 4:X.columns[4],\n",
    "                         5:X.columns[5], 6:X.columns[6], 7:X.columns[7], 8:X.columns[8], 9:X.columns[9],\n",
    "                         10:X.columns[10], 11:X.columns[11], 12:X.columns[12]}, inplace=True)"
   ]
  },
  {
   "cell_type": "code",
   "execution_count": 26,
   "metadata": {},
   "outputs": [
    {
     "data": {
      "text/html": [
       "<div>\n",
       "<style scoped>\n",
       "    .dataframe tbody tr th:only-of-type {\n",
       "        vertical-align: middle;\n",
       "    }\n",
       "\n",
       "    .dataframe tbody tr th {\n",
       "        vertical-align: top;\n",
       "    }\n",
       "\n",
       "    .dataframe thead th {\n",
       "        text-align: right;\n",
       "    }\n",
       "</style>\n",
       "<table border=\"1\" class=\"dataframe\">\n",
       "  <thead>\n",
       "    <tr style=\"text-align: right;\">\n",
       "      <th></th>\n",
       "      <th>Feature Ranks</th>\n",
       "    </tr>\n",
       "  </thead>\n",
       "  <tbody>\n",
       "    <tr>\n",
       "      <td>limit_bal</td>\n",
       "      <td>1</td>\n",
       "    </tr>\n",
       "    <tr>\n",
       "      <td>sex</td>\n",
       "      <td>1</td>\n",
       "    </tr>\n",
       "    <tr>\n",
       "      <td>education</td>\n",
       "      <td>1</td>\n",
       "    </tr>\n",
       "    <tr>\n",
       "      <td>marriage</td>\n",
       "      <td>1</td>\n",
       "    </tr>\n",
       "    <tr>\n",
       "      <td>age</td>\n",
       "      <td>1</td>\n",
       "    </tr>\n",
       "    <tr>\n",
       "      <td>pay_0</td>\n",
       "      <td>1</td>\n",
       "    </tr>\n",
       "    <tr>\n",
       "      <td>avg_utilization</td>\n",
       "      <td>1</td>\n",
       "    </tr>\n",
       "    <tr>\n",
       "      <td>avg_payment_impact</td>\n",
       "      <td>1</td>\n",
       "    </tr>\n",
       "    <tr>\n",
       "      <td>debt_streak</td>\n",
       "      <td>1</td>\n",
       "    </tr>\n",
       "    <tr>\n",
       "      <td>debt_avg_delta</td>\n",
       "      <td>1</td>\n",
       "    </tr>\n",
       "    <tr>\n",
       "      <td>payment_improvements</td>\n",
       "      <td>1</td>\n",
       "    </tr>\n",
       "    <tr>\n",
       "      <td>pay_0n1</td>\n",
       "      <td>3</td>\n",
       "    </tr>\n",
       "    <tr>\n",
       "      <td>pay_0n2</td>\n",
       "      <td>2</td>\n",
       "    </tr>\n",
       "  </tbody>\n",
       "</table>\n",
       "</div>"
      ],
      "text/plain": [
       "                      Feature Ranks\n",
       "limit_bal                         1\n",
       "sex                               1\n",
       "education                         1\n",
       "marriage                          1\n",
       "age                               1\n",
       "pay_0                             1\n",
       "avg_utilization                   1\n",
       "avg_payment_impact                1\n",
       "debt_streak                       1\n",
       "debt_avg_delta                    1\n",
       "payment_improvements              1\n",
       "pay_0n1                           3\n",
       "pay_0n2                           2"
      ]
     },
     "execution_count": 26,
     "metadata": {},
     "output_type": "execute_result"
    }
   ],
   "source": [
    "dt_feats = dt_feats.T\n",
    "dt_feats.rename(columns={0:'Feature Ranks'}, inplace=True)\n",
    "dt_feats"
   ]
  },
  {
   "cell_type": "markdown",
   "metadata": {},
   "source": [
    "### 1 means important, with larger numbers indicating less importance\n"
   ]
  },
  {
   "cell_type": "markdown",
   "metadata": {},
   "source": [
    "---"
   ]
  },
  {
   "cell_type": "markdown",
   "metadata": {},
   "source": [
    "## Model Refinement | Hyperparameter Tuning"
   ]
  },
  {
   "cell_type": "code",
   "execution_count": null,
   "metadata": {},
   "outputs": [],
   "source": []
  }
 ],
 "metadata": {
  "kernelspec": {
   "display_name": "Python 3",
   "language": "python",
   "name": "python3"
  },
  "language_info": {
   "codemirror_mode": {
    "name": "ipython",
    "version": 3
   },
   "file_extension": ".py",
   "mimetype": "text/x-python",
   "name": "python",
   "nbconvert_exporter": "python",
   "pygments_lexer": "ipython3",
   "version": "3.7.4"
  }
 },
 "nbformat": 4,
 "nbformat_minor": 2
}
