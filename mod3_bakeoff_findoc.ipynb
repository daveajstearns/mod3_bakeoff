{
 "cells": [
  {
   "cell_type": "code",
   "execution_count": 30,
   "metadata": {},
   "outputs": [],
   "source": [
    "# import libraries\n",
    "import pandas as pd\n",
    "import seaborn as sns\n",
    "import matplotlib.pyplot as plt\n",
    "import numpy as np\n",
    "%matplotlib inline\n",
    "import sklearn\n",
    "import warnings\n",
    "warnings.filterwarnings('ignore')\n",
    "pd.set_option('display.max_columns', None)\n",
    "from sklearn.model_selection import train_test_split\n",
    "from sklearn import linear_model\n",
    "from sklearn.metrics import mean_squared_error\n",
    "from sklearn.metrics import mean_absolute_error\n",
    "#\n",
    "from sklearn.preprocessing import PolynomialFeatures\n",
    "poly = PolynomialFeatures()\n",
    "#\n",
    "import os\n",
    "import numpy as np\n",
    "import scipy.stats as stats\n",
    "from statsmodels.formula.api import ols\n",
    "import statsmodels.api as sm\n",
    "import matplotlib.pyplot as plt\n",
    "import seaborn as sns\n",
    "%matplotlib inline\n",
    "from statsmodels.stats.multicomp import pairwise_tukeyhsd\n",
    "from statsmodels.stats.multicomp import MultiComparison\n",
    "#\n",
    "from sklearn.preprocessing import LabelEncoder\n",
    "make_lb = LabelEncoder()\n",
    "#\n",
    "from sklearn.preprocessing import LabelBinarizer\n",
    "lbb = LabelBinarizer()\n",
    "from sklearn.preprocessing import StandardScaler\n",
    "scaler = StandardScaler()\n",
    "from sklearn.preprocessing import MinMaxScaler\n",
    "minmax = MinMaxScaler()\n",
    "from sklearn.linear_model import LogisticRegression\n",
    "from sklearn.metrics import classification_report\n",
    "from sklearn.metrics import roc_curve, auc\n",
    "import pickle\n",
    "from sklearn.neighbors import KNeighborsClassifier\n",
    "from sklearn.tree import DecisionTreeClassifier\n",
    "from sklearn.linear_model import LogisticRegressionCV\n",
    "from sklearn.metrics import precision_score, recall_score, f1_score\n",
    "from sklearn.model_selection import cross_val_score\n",
    "from sklearn.model_selection import cross_validate\n",
    "from sklearn.feature_selection import RFECV\n",
    "from sklearn.model_selection import GridSearchCV"
   ]
  },
  {
   "cell_type": "code",
   "execution_count": 26,
   "metadata": {
    "scrolled": true
   },
   "outputs": [
    {
     "name": "stdout",
     "output_type": "stream",
     "text": [
      "Requirement already satisfied: jupyterthemes in /opt/anaconda3/lib/python3.7/site-packages (0.20.0)\n",
      "Requirement already satisfied: matplotlib>=1.4.3 in /opt/anaconda3/lib/python3.7/site-packages (from jupyterthemes) (3.1.1)\n",
      "Requirement already satisfied: notebook>=5.6.0 in /opt/anaconda3/lib/python3.7/site-packages (from jupyterthemes) (6.0.1)\n",
      "Requirement already satisfied: lesscpy>=0.11.2 in /opt/anaconda3/lib/python3.7/site-packages (from jupyterthemes) (0.14.0)\n",
      "Requirement already satisfied: jupyter-core in /opt/anaconda3/lib/python3.7/site-packages (from jupyterthemes) (4.5.0)\n",
      "Requirement already satisfied: ipython>=5.4.1 in /opt/anaconda3/lib/python3.7/site-packages (from jupyterthemes) (7.8.0)\n",
      "Requirement already satisfied: cycler>=0.10 in /opt/anaconda3/lib/python3.7/site-packages (from matplotlib>=1.4.3->jupyterthemes) (0.10.0)\n",
      "Requirement already satisfied: kiwisolver>=1.0.1 in /opt/anaconda3/lib/python3.7/site-packages (from matplotlib>=1.4.3->jupyterthemes) (1.1.0)\n",
      "Requirement already satisfied: pyparsing!=2.0.4,!=2.1.2,!=2.1.6,>=2.0.1 in /opt/anaconda3/lib/python3.7/site-packages (from matplotlib>=1.4.3->jupyterthemes) (2.4.2)\n",
      "Requirement already satisfied: python-dateutil>=2.1 in /opt/anaconda3/lib/python3.7/site-packages (from matplotlib>=1.4.3->jupyterthemes) (2.8.0)\n",
      "Requirement already satisfied: numpy>=1.11 in /opt/anaconda3/lib/python3.7/site-packages (from matplotlib>=1.4.3->jupyterthemes) (1.17.2)\n",
      "Requirement already satisfied: jinja2 in /opt/anaconda3/lib/python3.7/site-packages (from notebook>=5.6.0->jupyterthemes) (2.10.3)\n",
      "Requirement already satisfied: nbformat in /opt/anaconda3/lib/python3.7/site-packages (from notebook>=5.6.0->jupyterthemes) (4.4.0)\n",
      "Requirement already satisfied: ipykernel in /opt/anaconda3/lib/python3.7/site-packages (from notebook>=5.6.0->jupyterthemes) (5.1.2)\n",
      "Requirement already satisfied: Send2Trash in /opt/anaconda3/lib/python3.7/site-packages (from notebook>=5.6.0->jupyterthemes) (1.5.0)\n",
      "Requirement already satisfied: prometheus-client in /opt/anaconda3/lib/python3.7/site-packages (from notebook>=5.6.0->jupyterthemes) (0.7.1)\n",
      "Requirement already satisfied: pyzmq>=17 in /opt/anaconda3/lib/python3.7/site-packages (from notebook>=5.6.0->jupyterthemes) (18.1.0)\n",
      "Requirement already satisfied: nbconvert in /opt/anaconda3/lib/python3.7/site-packages (from notebook>=5.6.0->jupyterthemes) (5.6.0)\n",
      "Requirement already satisfied: ipython-genutils in /opt/anaconda3/lib/python3.7/site-packages (from notebook>=5.6.0->jupyterthemes) (0.2.0)\n",
      "Requirement already satisfied: terminado>=0.8.1 in /opt/anaconda3/lib/python3.7/site-packages (from notebook>=5.6.0->jupyterthemes) (0.8.2)\n",
      "Requirement already satisfied: traitlets>=4.2.1 in /opt/anaconda3/lib/python3.7/site-packages (from notebook>=5.6.0->jupyterthemes) (4.3.3)\n",
      "Requirement already satisfied: jupyter-client>=5.3.1 in /opt/anaconda3/lib/python3.7/site-packages (from notebook>=5.6.0->jupyterthemes) (5.3.3)\n",
      "Requirement already satisfied: tornado>=5.0 in /opt/anaconda3/lib/python3.7/site-packages (from notebook>=5.6.0->jupyterthemes) (6.0.3)\n",
      "Requirement already satisfied: six in /opt/anaconda3/lib/python3.7/site-packages (from lesscpy>=0.11.2->jupyterthemes) (1.12.0)\n",
      "Requirement already satisfied: ply in /opt/anaconda3/lib/python3.7/site-packages (from lesscpy>=0.11.2->jupyterthemes) (3.11)\n",
      "Requirement already satisfied: appnope; sys_platform == \"darwin\" in /opt/anaconda3/lib/python3.7/site-packages (from ipython>=5.4.1->jupyterthemes) (0.1.0)\n",
      "Requirement already satisfied: jedi>=0.10 in /opt/anaconda3/lib/python3.7/site-packages (from ipython>=5.4.1->jupyterthemes) (0.15.1)\n",
      "Requirement already satisfied: backcall in /opt/anaconda3/lib/python3.7/site-packages (from ipython>=5.4.1->jupyterthemes) (0.1.0)\n",
      "Requirement already satisfied: pexpect; sys_platform != \"win32\" in /opt/anaconda3/lib/python3.7/site-packages (from ipython>=5.4.1->jupyterthemes) (4.7.0)\n",
      "Requirement already satisfied: pickleshare in /opt/anaconda3/lib/python3.7/site-packages (from ipython>=5.4.1->jupyterthemes) (0.7.5)\n",
      "Requirement already satisfied: setuptools>=18.5 in /opt/anaconda3/lib/python3.7/site-packages (from ipython>=5.4.1->jupyterthemes) (41.4.0)\n",
      "Requirement already satisfied: decorator in /opt/anaconda3/lib/python3.7/site-packages (from ipython>=5.4.1->jupyterthemes) (4.4.0)\n",
      "Requirement already satisfied: prompt-toolkit<2.1.0,>=2.0.0 in /opt/anaconda3/lib/python3.7/site-packages (from ipython>=5.4.1->jupyterthemes) (2.0.10)\n",
      "Requirement already satisfied: pygments in /opt/anaconda3/lib/python3.7/site-packages (from ipython>=5.4.1->jupyterthemes) (2.4.2)\n",
      "Requirement already satisfied: MarkupSafe>=0.23 in /opt/anaconda3/lib/python3.7/site-packages (from jinja2->notebook>=5.6.0->jupyterthemes) (1.1.1)\n",
      "Requirement already satisfied: jsonschema!=2.5.0,>=2.4 in /opt/anaconda3/lib/python3.7/site-packages (from nbformat->notebook>=5.6.0->jupyterthemes) (3.0.2)\n",
      "Requirement already satisfied: defusedxml in /opt/anaconda3/lib/python3.7/site-packages (from nbconvert->notebook>=5.6.0->jupyterthemes) (0.6.0)\n",
      "Requirement already satisfied: testpath in /opt/anaconda3/lib/python3.7/site-packages (from nbconvert->notebook>=5.6.0->jupyterthemes) (0.4.2)\n",
      "Requirement already satisfied: pandocfilters>=1.4.1 in /opt/anaconda3/lib/python3.7/site-packages (from nbconvert->notebook>=5.6.0->jupyterthemes) (1.4.2)\n",
      "Requirement already satisfied: bleach in /opt/anaconda3/lib/python3.7/site-packages (from nbconvert->notebook>=5.6.0->jupyterthemes) (3.1.0)\n",
      "Requirement already satisfied: entrypoints>=0.2.2 in /opt/anaconda3/lib/python3.7/site-packages (from nbconvert->notebook>=5.6.0->jupyterthemes) (0.3)\n",
      "Requirement already satisfied: mistune<2,>=0.8.1 in /opt/anaconda3/lib/python3.7/site-packages (from nbconvert->notebook>=5.6.0->jupyterthemes) (0.8.4)\n",
      "Requirement already satisfied: parso>=0.5.0 in /opt/anaconda3/lib/python3.7/site-packages (from jedi>=0.10->ipython>=5.4.1->jupyterthemes) (0.5.1)\n",
      "Requirement already satisfied: ptyprocess>=0.5 in /opt/anaconda3/lib/python3.7/site-packages (from pexpect; sys_platform != \"win32\"->ipython>=5.4.1->jupyterthemes) (0.6.0)\n",
      "Requirement already satisfied: wcwidth in /opt/anaconda3/lib/python3.7/site-packages (from prompt-toolkit<2.1.0,>=2.0.0->ipython>=5.4.1->jupyterthemes) (0.1.7)\n",
      "Requirement already satisfied: pyrsistent>=0.14.0 in /opt/anaconda3/lib/python3.7/site-packages (from jsonschema!=2.5.0,>=2.4->nbformat->notebook>=5.6.0->jupyterthemes) (0.15.4)\n",
      "Requirement already satisfied: attrs>=17.4.0 in /opt/anaconda3/lib/python3.7/site-packages (from jsonschema!=2.5.0,>=2.4->nbformat->notebook>=5.6.0->jupyterthemes) (19.2.0)\n",
      "Requirement already satisfied: webencodings in /opt/anaconda3/lib/python3.7/site-packages (from bleach->nbconvert->notebook>=5.6.0->jupyterthemes) (0.5.1)\n"
     ]
    }
   ],
   "source": [
    "!pip install jupyterthemes"
   ]
  },
  {
   "cell_type": "code",
   "execution_count": 28,
   "metadata": {},
   "outputs": [
    {
     "name": "stdout",
     "output_type": "stream",
     "text": [
      "Available Themes: \r\n",
      "   chesterish\r\n",
      "   grade3\r\n",
      "   gruvboxd\r\n",
      "   gruvboxl\r\n",
      "   monokai\r\n",
      "   oceans16\r\n",
      "   onedork\r\n",
      "   solarizedd\r\n",
      "   solarizedl\r\n"
     ]
    }
   ],
   "source": [
    "!jt -t oceans16\n",
    "!jt -l"
   ]
  },
  {
   "cell_type": "code",
   "execution_count": 29,
   "metadata": {},
   "outputs": [],
   "source": [
    "!jt -t monokai"
   ]
  },
  {
   "cell_type": "code",
   "execution_count": 31,
   "metadata": {
    "scrolled": true
   },
   "outputs": [
    {
     "data": {
      "text/html": [
       "<div>\n",
       "<style scoped>\n",
       "    .dataframe tbody tr th:only-of-type {\n",
       "        vertical-align: middle;\n",
       "    }\n",
       "\n",
       "    .dataframe tbody tr th {\n",
       "        vertical-align: top;\n",
       "    }\n",
       "\n",
       "    .dataframe thead th {\n",
       "        text-align: right;\n",
       "    }\n",
       "</style>\n",
       "<table border=\"1\" class=\"dataframe\">\n",
       "  <thead>\n",
       "    <tr style=\"text-align: right;\">\n",
       "      <th></th>\n",
       "      <th>ID</th>\n",
       "      <th>LIMIT_BAL</th>\n",
       "      <th>SEX</th>\n",
       "      <th>EDUCATION</th>\n",
       "      <th>MARRIAGE</th>\n",
       "      <th>AGE</th>\n",
       "      <th>PAY_0</th>\n",
       "      <th>default payment next month</th>\n",
       "      <th>avg_utilization</th>\n",
       "      <th>avg_payment_impact</th>\n",
       "      <th>debt_streak</th>\n",
       "      <th>debt_avg_delta</th>\n",
       "      <th>payment_improvements</th>\n",
       "      <th>PAY_0N1</th>\n",
       "      <th>PAY_0N2</th>\n",
       "    </tr>\n",
       "  </thead>\n",
       "  <tbody>\n",
       "    <tr>\n",
       "      <td>0</td>\n",
       "      <td>2873.0</td>\n",
       "      <td>350000.0</td>\n",
       "      <td>1.0</td>\n",
       "      <td>1.0</td>\n",
       "      <td>2.0</td>\n",
       "      <td>37.0</td>\n",
       "      <td>0</td>\n",
       "      <td>0.0</td>\n",
       "      <td>0.001046</td>\n",
       "      <td>0.001046</td>\n",
       "      <td>0.0</td>\n",
       "      <td>0.000000</td>\n",
       "      <td>0.0</td>\n",
       "      <td>0</td>\n",
       "      <td>0</td>\n",
       "    </tr>\n",
       "    <tr>\n",
       "      <td>1</td>\n",
       "      <td>3598.0</td>\n",
       "      <td>50000.0</td>\n",
       "      <td>2.0</td>\n",
       "      <td>2.0</td>\n",
       "      <td>1.0</td>\n",
       "      <td>37.0</td>\n",
       "      <td>2</td>\n",
       "      <td>0.0</td>\n",
       "      <td>0.542003</td>\n",
       "      <td>0.026267</td>\n",
       "      <td>0.0</td>\n",
       "      <td>0.000000</td>\n",
       "      <td>0.0</td>\n",
       "      <td>0</td>\n",
       "      <td>0</td>\n",
       "    </tr>\n",
       "    <tr>\n",
       "      <td>2</td>\n",
       "      <td>27623.0</td>\n",
       "      <td>50000.0</td>\n",
       "      <td>2.0</td>\n",
       "      <td>1.0</td>\n",
       "      <td>2.0</td>\n",
       "      <td>23.0</td>\n",
       "      <td>0</td>\n",
       "      <td>0.0</td>\n",
       "      <td>0.078257</td>\n",
       "      <td>0.077063</td>\n",
       "      <td>2.0</td>\n",
       "      <td>0.011310</td>\n",
       "      <td>0.0</td>\n",
       "      <td>1</td>\n",
       "      <td>1</td>\n",
       "    </tr>\n",
       "    <tr>\n",
       "      <td>3</td>\n",
       "      <td>6874.0</td>\n",
       "      <td>20000.0</td>\n",
       "      <td>1.0</td>\n",
       "      <td>3.0</td>\n",
       "      <td>1.0</td>\n",
       "      <td>56.0</td>\n",
       "      <td>0</td>\n",
       "      <td>0.0</td>\n",
       "      <td>0.639975</td>\n",
       "      <td>0.041567</td>\n",
       "      <td>0.0</td>\n",
       "      <td>0.000000</td>\n",
       "      <td>1.0</td>\n",
       "      <td>0</td>\n",
       "      <td>0</td>\n",
       "    </tr>\n",
       "    <tr>\n",
       "      <td>4</td>\n",
       "      <td>6444.0</td>\n",
       "      <td>110000.0</td>\n",
       "      <td>2.0</td>\n",
       "      <td>2.0</td>\n",
       "      <td>2.0</td>\n",
       "      <td>32.0</td>\n",
       "      <td>0</td>\n",
       "      <td>0.0</td>\n",
       "      <td>0.983186</td>\n",
       "      <td>0.041364</td>\n",
       "      <td>1.0</td>\n",
       "      <td>0.012245</td>\n",
       "      <td>0.0</td>\n",
       "      <td>0</td>\n",
       "      <td>0</td>\n",
       "    </tr>\n",
       "  </tbody>\n",
       "</table>\n",
       "</div>"
      ],
      "text/plain": [
       "        ID  LIMIT_BAL  SEX  EDUCATION  MARRIAGE   AGE  PAY_0  \\\n",
       "0   2873.0   350000.0  1.0        1.0       2.0  37.0      0   \n",
       "1   3598.0    50000.0  2.0        2.0       1.0  37.0      2   \n",
       "2  27623.0    50000.0  2.0        1.0       2.0  23.0      0   \n",
       "3   6874.0    20000.0  1.0        3.0       1.0  56.0      0   \n",
       "4   6444.0   110000.0  2.0        2.0       2.0  32.0      0   \n",
       "\n",
       "   default payment next month  avg_utilization  avg_payment_impact  \\\n",
       "0                         0.0         0.001046            0.001046   \n",
       "1                         0.0         0.542003            0.026267   \n",
       "2                         0.0         0.078257            0.077063   \n",
       "3                         0.0         0.639975            0.041567   \n",
       "4                         0.0         0.983186            0.041364   \n",
       "\n",
       "   debt_streak  debt_avg_delta  payment_improvements  PAY_0N1  PAY_0N2  \n",
       "0          0.0        0.000000                   0.0        0        0  \n",
       "1          0.0        0.000000                   0.0        0        0  \n",
       "2          2.0        0.011310                   0.0        1        1  \n",
       "3          0.0        0.000000                   1.0        0        0  \n",
       "4          1.0        0.012245                   0.0        0        0  "
      ]
     },
     "execution_count": 31,
     "metadata": {},
     "output_type": "execute_result"
    }
   ],
   "source": [
    "with open('df_trimmed.pickle', 'rb') as f:\n",
    "    # The protocol version used is detected automatically, so we do not\n",
    "    # have to specify it.\n",
    "    df_final = pickle.load(f)\n",
    "df_final.head()"
   ]
  },
  {
   "cell_type": "code",
   "execution_count": 32,
   "metadata": {},
   "outputs": [],
   "source": [
    "df_final.drop(columns=['ID'], axis=1, inplace=True)"
   ]
  },
  {
   "cell_type": "markdown",
   "metadata": {},
   "source": [
    "### General Layout\n",
    "\n",
    "`rfecv = RFECV(estimator=MODEL, step=1, cv=,\n",
    "              scoring='accuracy')`"
   ]
  },
  {
   "cell_type": "code",
   "execution_count": 33,
   "metadata": {},
   "outputs": [
    {
     "data": {
      "text/html": [
       "<div>\n",
       "<style scoped>\n",
       "    .dataframe tbody tr th:only-of-type {\n",
       "        vertical-align: middle;\n",
       "    }\n",
       "\n",
       "    .dataframe tbody tr th {\n",
       "        vertical-align: top;\n",
       "    }\n",
       "\n",
       "    .dataframe thead th {\n",
       "        text-align: right;\n",
       "    }\n",
       "</style>\n",
       "<table border=\"1\" class=\"dataframe\">\n",
       "  <thead>\n",
       "    <tr style=\"text-align: right;\">\n",
       "      <th></th>\n",
       "      <th>limit_bal</th>\n",
       "      <th>sex</th>\n",
       "      <th>education</th>\n",
       "      <th>marriage</th>\n",
       "      <th>age</th>\n",
       "      <th>pay_0</th>\n",
       "      <th>default</th>\n",
       "      <th>avg_utilization</th>\n",
       "      <th>avg_payment_impact</th>\n",
       "      <th>debt_streak</th>\n",
       "      <th>debt_avg_delta</th>\n",
       "      <th>payment_improvements</th>\n",
       "      <th>pay_0n1</th>\n",
       "      <th>pay_0n2</th>\n",
       "    </tr>\n",
       "  </thead>\n",
       "  <tbody>\n",
       "    <tr>\n",
       "      <td>0</td>\n",
       "      <td>350000.0</td>\n",
       "      <td>1.0</td>\n",
       "      <td>1.0</td>\n",
       "      <td>2.0</td>\n",
       "      <td>37.0</td>\n",
       "      <td>0</td>\n",
       "      <td>0.0</td>\n",
       "      <td>0.001046</td>\n",
       "      <td>0.001046</td>\n",
       "      <td>0.0</td>\n",
       "      <td>0.000000</td>\n",
       "      <td>0.0</td>\n",
       "      <td>0</td>\n",
       "      <td>0</td>\n",
       "    </tr>\n",
       "    <tr>\n",
       "      <td>1</td>\n",
       "      <td>50000.0</td>\n",
       "      <td>2.0</td>\n",
       "      <td>2.0</td>\n",
       "      <td>1.0</td>\n",
       "      <td>37.0</td>\n",
       "      <td>2</td>\n",
       "      <td>0.0</td>\n",
       "      <td>0.542003</td>\n",
       "      <td>0.026267</td>\n",
       "      <td>0.0</td>\n",
       "      <td>0.000000</td>\n",
       "      <td>0.0</td>\n",
       "      <td>0</td>\n",
       "      <td>0</td>\n",
       "    </tr>\n",
       "    <tr>\n",
       "      <td>2</td>\n",
       "      <td>50000.0</td>\n",
       "      <td>2.0</td>\n",
       "      <td>1.0</td>\n",
       "      <td>2.0</td>\n",
       "      <td>23.0</td>\n",
       "      <td>0</td>\n",
       "      <td>0.0</td>\n",
       "      <td>0.078257</td>\n",
       "      <td>0.077063</td>\n",
       "      <td>2.0</td>\n",
       "      <td>0.011310</td>\n",
       "      <td>0.0</td>\n",
       "      <td>1</td>\n",
       "      <td>1</td>\n",
       "    </tr>\n",
       "    <tr>\n",
       "      <td>3</td>\n",
       "      <td>20000.0</td>\n",
       "      <td>1.0</td>\n",
       "      <td>3.0</td>\n",
       "      <td>1.0</td>\n",
       "      <td>56.0</td>\n",
       "      <td>0</td>\n",
       "      <td>0.0</td>\n",
       "      <td>0.639975</td>\n",
       "      <td>0.041567</td>\n",
       "      <td>0.0</td>\n",
       "      <td>0.000000</td>\n",
       "      <td>1.0</td>\n",
       "      <td>0</td>\n",
       "      <td>0</td>\n",
       "    </tr>\n",
       "    <tr>\n",
       "      <td>4</td>\n",
       "      <td>110000.0</td>\n",
       "      <td>2.0</td>\n",
       "      <td>2.0</td>\n",
       "      <td>2.0</td>\n",
       "      <td>32.0</td>\n",
       "      <td>0</td>\n",
       "      <td>0.0</td>\n",
       "      <td>0.983186</td>\n",
       "      <td>0.041364</td>\n",
       "      <td>1.0</td>\n",
       "      <td>0.012245</td>\n",
       "      <td>0.0</td>\n",
       "      <td>0</td>\n",
       "      <td>0</td>\n",
       "    </tr>\n",
       "  </tbody>\n",
       "</table>\n",
       "</div>"
      ],
      "text/plain": [
       "   limit_bal  sex  education  marriage   age  pay_0  default  avg_utilization  \\\n",
       "0   350000.0  1.0        1.0       2.0  37.0      0      0.0         0.001046   \n",
       "1    50000.0  2.0        2.0       1.0  37.0      2      0.0         0.542003   \n",
       "2    50000.0  2.0        1.0       2.0  23.0      0      0.0         0.078257   \n",
       "3    20000.0  1.0        3.0       1.0  56.0      0      0.0         0.639975   \n",
       "4   110000.0  2.0        2.0       2.0  32.0      0      0.0         0.983186   \n",
       "\n",
       "   avg_payment_impact  debt_streak  debt_avg_delta  payment_improvements  \\\n",
       "0            0.001046          0.0        0.000000                   0.0   \n",
       "1            0.026267          0.0        0.000000                   0.0   \n",
       "2            0.077063          2.0        0.011310                   0.0   \n",
       "3            0.041567          0.0        0.000000                   1.0   \n",
       "4            0.041364          1.0        0.012245                   0.0   \n",
       "\n",
       "   pay_0n1  pay_0n2  \n",
       "0        0        0  \n",
       "1        0        0  \n",
       "2        1        1  \n",
       "3        0        0  \n",
       "4        0        0  "
      ]
     },
     "execution_count": 33,
     "metadata": {},
     "output_type": "execute_result"
    }
   ],
   "source": [
    "df_final.rename(columns={'default payment next month':'default'}, inplace=True)\n",
    "df_final.columns=df_final.columns.str.lower()\n",
    "df_final.head()"
   ]
  },
  {
   "cell_type": "markdown",
   "metadata": {},
   "source": [
    "### I have to run my three base models with this data in order to see how it performs once I start to use a feature elimination module.\n"
   ]
  },
  {
   "cell_type": "markdown",
   "metadata": {},
   "source": [
    "---"
   ]
  },
  {
   "cell_type": "markdown",
   "metadata": {},
   "source": [
    "### Baseline Logistic Regression Model"
   ]
  },
  {
   "cell_type": "code",
   "execution_count": 34,
   "metadata": {},
   "outputs": [],
   "source": [
    "# Preparing data for the model\n",
    "df_fin_mms = df_final\n",
    "df_fin_mms = minmax.fit_transform(df_fin_mms)"
   ]
  },
  {
   "cell_type": "code",
   "execution_count": 35,
   "metadata": {},
   "outputs": [
    {
     "data": {
      "text/html": [
       "<div>\n",
       "<style scoped>\n",
       "    .dataframe tbody tr th:only-of-type {\n",
       "        vertical-align: middle;\n",
       "    }\n",
       "\n",
       "    .dataframe tbody tr th {\n",
       "        vertical-align: top;\n",
       "    }\n",
       "\n",
       "    .dataframe thead th {\n",
       "        text-align: right;\n",
       "    }\n",
       "</style>\n",
       "<table border=\"1\" class=\"dataframe\">\n",
       "  <thead>\n",
       "    <tr style=\"text-align: right;\">\n",
       "      <th></th>\n",
       "      <th>limit_bal</th>\n",
       "      <th>sex</th>\n",
       "      <th>education</th>\n",
       "      <th>marriage</th>\n",
       "      <th>age</th>\n",
       "      <th>pay_0</th>\n",
       "      <th>default</th>\n",
       "      <th>avg_utilization</th>\n",
       "      <th>avg_payment_impact</th>\n",
       "      <th>debt_streak</th>\n",
       "      <th>debt_avg_delta</th>\n",
       "      <th>payment_improvements</th>\n",
       "      <th>pay_0n1</th>\n",
       "      <th>pay_0n2</th>\n",
       "    </tr>\n",
       "  </thead>\n",
       "  <tbody>\n",
       "    <tr>\n",
       "      <td>0</td>\n",
       "      <td>0.343434</td>\n",
       "      <td>0.0</td>\n",
       "      <td>0.166667</td>\n",
       "      <td>0.666667</td>\n",
       "      <td>0.275862</td>\n",
       "      <td>0.00</td>\n",
       "      <td>0.0</td>\n",
       "      <td>0.036158</td>\n",
       "      <td>0.000431</td>\n",
       "      <td>0.0</td>\n",
       "      <td>0.000000</td>\n",
       "      <td>0.0</td>\n",
       "      <td>0.0</td>\n",
       "      <td>0.0</td>\n",
       "    </tr>\n",
       "    <tr>\n",
       "      <td>1</td>\n",
       "      <td>0.040404</td>\n",
       "      <td>1.0</td>\n",
       "      <td>0.333333</td>\n",
       "      <td>0.333333</td>\n",
       "      <td>0.275862</td>\n",
       "      <td>0.25</td>\n",
       "      <td>0.0</td>\n",
       "      <td>0.133375</td>\n",
       "      <td>0.010819</td>\n",
       "      <td>0.0</td>\n",
       "      <td>0.000000</td>\n",
       "      <td>0.0</td>\n",
       "      <td>0.0</td>\n",
       "      <td>0.0</td>\n",
       "    </tr>\n",
       "    <tr>\n",
       "      <td>2</td>\n",
       "      <td>0.040404</td>\n",
       "      <td>1.0</td>\n",
       "      <td>0.166667</td>\n",
       "      <td>0.666667</td>\n",
       "      <td>0.034483</td>\n",
       "      <td>0.00</td>\n",
       "      <td>0.0</td>\n",
       "      <td>0.050034</td>\n",
       "      <td>0.031743</td>\n",
       "      <td>0.4</td>\n",
       "      <td>0.004299</td>\n",
       "      <td>0.0</td>\n",
       "      <td>1.0</td>\n",
       "      <td>1.0</td>\n",
       "    </tr>\n",
       "    <tr>\n",
       "      <td>3</td>\n",
       "      <td>0.010101</td>\n",
       "      <td>0.0</td>\n",
       "      <td>0.500000</td>\n",
       "      <td>0.333333</td>\n",
       "      <td>0.603448</td>\n",
       "      <td>0.00</td>\n",
       "      <td>0.0</td>\n",
       "      <td>0.150981</td>\n",
       "      <td>0.017122</td>\n",
       "      <td>0.0</td>\n",
       "      <td>0.000000</td>\n",
       "      <td>0.2</td>\n",
       "      <td>0.0</td>\n",
       "      <td>0.0</td>\n",
       "    </tr>\n",
       "    <tr>\n",
       "      <td>4</td>\n",
       "      <td>0.101010</td>\n",
       "      <td>1.0</td>\n",
       "      <td>0.333333</td>\n",
       "      <td>0.666667</td>\n",
       "      <td>0.189655</td>\n",
       "      <td>0.00</td>\n",
       "      <td>0.0</td>\n",
       "      <td>0.212660</td>\n",
       "      <td>0.017038</td>\n",
       "      <td>0.2</td>\n",
       "      <td>0.004655</td>\n",
       "      <td>0.0</td>\n",
       "      <td>0.0</td>\n",
       "      <td>0.0</td>\n",
       "    </tr>\n",
       "  </tbody>\n",
       "</table>\n",
       "</div>"
      ],
      "text/plain": [
       "   limit_bal  sex  education  marriage       age  pay_0  default  \\\n",
       "0   0.343434  0.0   0.166667  0.666667  0.275862   0.00      0.0   \n",
       "1   0.040404  1.0   0.333333  0.333333  0.275862   0.25      0.0   \n",
       "2   0.040404  1.0   0.166667  0.666667  0.034483   0.00      0.0   \n",
       "3   0.010101  0.0   0.500000  0.333333  0.603448   0.00      0.0   \n",
       "4   0.101010  1.0   0.333333  0.666667  0.189655   0.00      0.0   \n",
       "\n",
       "   avg_utilization  avg_payment_impact  debt_streak  debt_avg_delta  \\\n",
       "0         0.036158            0.000431          0.0        0.000000   \n",
       "1         0.133375            0.010819          0.0        0.000000   \n",
       "2         0.050034            0.031743          0.4        0.004299   \n",
       "3         0.150981            0.017122          0.0        0.000000   \n",
       "4         0.212660            0.017038          0.2        0.004655   \n",
       "\n",
       "   payment_improvements  pay_0n1  pay_0n2  \n",
       "0                   0.0      0.0      0.0  \n",
       "1                   0.0      0.0      0.0  \n",
       "2                   0.0      1.0      1.0  \n",
       "3                   0.2      0.0      0.0  \n",
       "4                   0.0      0.0      0.0  "
      ]
     },
     "execution_count": 35,
     "metadata": {},
     "output_type": "execute_result"
    }
   ],
   "source": [
    "df_fin_mms = pd.DataFrame(df_fin_mms, columns=df_final.columns)\n",
    "df_fin_mms.head()"
   ]
  },
  {
   "cell_type": "code",
   "execution_count": 36,
   "metadata": {},
   "outputs": [],
   "source": [
    "y = df_fin_mms['default']\n",
    "X = df_fin_mms.drop(columns=['default'], axis=1)"
   ]
  },
  {
   "cell_type": "code",
   "execution_count": 37,
   "metadata": {},
   "outputs": [],
   "source": [
    "logreg_base = LogisticRegressionCV(random_state=42, cv=5, scoring = 'accuracy', solver='saga')\n",
    "base_lr = logreg_base.fit(X, y)"
   ]
  },
  {
   "cell_type": "code",
   "execution_count": 38,
   "metadata": {},
   "outputs": [
    {
     "data": {
      "text/plain": [
       "{'fit_time': array([3.27245998, 3.55791211, 3.87258101, 3.84000468, 3.85964918]),\n",
       " 'score_time': array([0.02216125, 0.01417589, 0.01464581, 0.0167563 , 0.01533484]),\n",
       " 'test_f1': array([0.46029777, 0.45083014, 0.47195122, 0.42610365, 0.48406863]),\n",
       " 'test_recall': array([0.34934087, 0.33239171, 0.36440678, 0.31385485, 0.37229029]),\n",
       " 'test_precision': array([0.67454545, 0.70039683, 0.66955017, 0.66334661, 0.69176883]),\n",
       " 'test_accuracy': array([0.81878775, 0.82083333, 0.81958333, 0.81308606, 0.82454678])}"
      ]
     },
     "execution_count": 38,
     "metadata": {},
     "output_type": "execute_result"
    }
   ],
   "source": [
    "cross_validate(logreg_base, X, y, scoring=['f1', 'recall', 'precision', 'accuracy'], cv=5)"
   ]
  },
  {
   "cell_type": "code",
   "execution_count": 39,
   "metadata": {},
   "outputs": [
    {
     "name": "stdout",
     "output_type": "stream",
     "text": [
      "test_f1: 0.45870484000000006\n",
      "test_recall: 0.3464569\n",
      "test_precision: 0.680186388\n",
      "test_accuracy: 0.819409126\n"
     ]
    }
   ],
   "source": [
    "# Probably a better way of doing this\n",
    "test_f1 = np.mean([0.46029777, 0.45083014, 0.47195122, 0.42637644, 0.48406863])\n",
    "test_recall = np.mean([0.34934087, 0.33239171, 0.36440678, 0.31385485, 0.37229029])\n",
    "test_precision = np.mean([0.67454545, 0.70039683, 0.66955017, 0.66467066, 0.69176883])\n",
    "test_accuracy = np.mean([0.81878775, 0.82083333, 0.81958333, 0.81329444, 0.82454678])\n",
    "print('test_f1:', test_f1)\n",
    "print('test_recall:', test_recall)\n",
    "print('test_precision:', test_precision)\n",
    "print('test_accuracy:', test_accuracy)"
   ]
  },
  {
   "cell_type": "markdown",
   "metadata": {},
   "source": [
    "---"
   ]
  },
  {
   "cell_type": "markdown",
   "metadata": {},
   "source": [
    "### Baseline KNN Model"
   ]
  },
  {
   "cell_type": "code",
   "execution_count": 40,
   "metadata": {},
   "outputs": [],
   "source": [
    "knn = KNeighborsClassifier()"
   ]
  },
  {
   "cell_type": "code",
   "execution_count": 41,
   "metadata": {},
   "outputs": [
    {
     "data": {
      "text/plain": [
       "{'fit_time': array([0.11845398, 0.08772993, 0.08167505, 0.16339302, 0.0830369 ]),\n",
       " 'score_time': array([1.6751101 , 1.72525215, 1.74677682, 1.8876617 , 1.78995395]),\n",
       " 'test_f1': array([0.41520468, 0.42747188, 0.41743119, 0.41852286, 0.43367935]),\n",
       " 'test_recall': array([0.33427495, 0.33992467, 0.34274953, 0.33647502, 0.35438266]),\n",
       " 'test_precision': array([0.54783951, 0.57575758, 0.53372434, 0.55348837, 0.55869242]),\n",
       " 'test_accuracy': array([0.79171006, 0.79854167, 0.78833333, 0.79329027, 0.79537404])}"
      ]
     },
     "execution_count": 41,
     "metadata": {},
     "output_type": "execute_result"
    }
   ],
   "source": [
    "cross_validate(knn, X, y, scoring=['f1', 'recall', 'precision', 'accuracy'], cv=5)"
   ]
  },
  {
   "cell_type": "code",
   "execution_count": 42,
   "metadata": {},
   "outputs": [
    {
     "name": "stdout",
     "output_type": "stream",
     "text": [
      "test_f1: 0.422461992\n",
      "test_recall: 0.341561366\n",
      "test_precision: 0.5539004439999999\n",
      "test_accuracy: 0.793449874\n"
     ]
    }
   ],
   "source": [
    "# Probably a better way of doing this\n",
    "test_f1 = np.mean([0.41520468, 0.42747188, 0.41743119, 0.41852286, 0.43367935])\n",
    "test_recall = np.mean([0.33427495, 0.33992467, 0.34274953, 0.33647502, 0.35438266])\n",
    "test_precision = np.mean([0.54783951, 0.57575758, 0.53372434, 0.55348837, 0.55869242])\n",
    "test_accuracy = np.mean([0.79171006, 0.79854167, 0.78833333, 0.79329027, 0.79537404])\n",
    "print('test_f1:', test_f1)\n",
    "print('test_recall:', test_recall)\n",
    "print('test_precision:', test_precision)\n",
    "print('test_accuracy:', test_accuracy)"
   ]
  },
  {
   "cell_type": "markdown",
   "metadata": {},
   "source": [
    "---"
   ]
  },
  {
   "cell_type": "markdown",
   "metadata": {},
   "source": [
    "### DecisionTreeClassifier Base Model"
   ]
  },
  {
   "cell_type": "code",
   "execution_count": 43,
   "metadata": {},
   "outputs": [],
   "source": [
    "dt_base = DecisionTreeClassifier(random_state=42)"
   ]
  },
  {
   "cell_type": "code",
   "execution_count": 44,
   "metadata": {},
   "outputs": [
    {
     "data": {
      "text/plain": [
       "{'fit_time': array([0.1593101 , 0.13966894, 0.14208317, 0.14480495, 0.13841987]),\n",
       " 'score_time': array([0.01849008, 0.02695298, 0.01778984, 0.018466  , 0.01734805]),\n",
       " 'test_f1': array([0.37683824, 0.38942976, 0.406165  , 0.38906606, 0.43054935]),\n",
       " 'test_recall': array([0.38606403, 0.39548023, 0.42184557, 0.40245052, 0.45428841]),\n",
       " 'test_precision': array([0.36804309, 0.38356164, 0.39160839, 0.37654321, 0.40916808]),\n",
       " 'test_accuracy': array([0.71755884, 0.725625  , 0.72708333, 0.72056678, 0.73431965])}"
      ]
     },
     "execution_count": 44,
     "metadata": {},
     "output_type": "execute_result"
    }
   ],
   "source": [
    "cross_validate(dt_base, X, y, scoring=['f1', 'recall', 'precision', 'accuracy'], cv=5)"
   ]
  },
  {
   "cell_type": "code",
   "execution_count": 45,
   "metadata": {},
   "outputs": [
    {
     "name": "stdout",
     "output_type": "stream",
     "text": [
      "test_f1: 0.39840968199999993\n",
      "test_recall: 0.4120257519999999\n",
      "test_precision: 0.38578488199999994\n",
      "test_accuracy: 0.72503072\n"
     ]
    }
   ],
   "source": [
    "test_f1 = np.mean([0.37683824, 0.38942976, 0.406165  , 0.38906606, 0.43054935])\n",
    "test_recall = np.mean([0.38606403, 0.39548023, 0.42184557, 0.40245052, 0.45428841])\n",
    "test_precision = np.mean([0.36804309, 0.38356164, 0.39160839, 0.37654321, 0.40916808])\n",
    "test_accuracy = np.mean([0.71755884, 0.725625  , 0.72708333, 0.72056678, 0.73431965])\n",
    "print('test_f1:', test_f1)\n",
    "print('test_recall:', test_recall)\n",
    "print('test_precision:', test_precision)\n",
    "print('test_accuracy:', test_accuracy)"
   ]
  },
  {
   "cell_type": "markdown",
   "metadata": {},
   "source": [
    "---"
   ]
  },
  {
   "cell_type": "markdown",
   "metadata": {},
   "source": [
    "### Time to check out RFECV\n"
   ]
  },
  {
   "cell_type": "code",
   "execution_count": 46,
   "metadata": {},
   "outputs": [],
   "source": [
    "# KNN doesn't support this\n",
    "rfecv_lg = RFECV(estimator=logreg_base, step=1, min_features_to_select=10, cv=5,\n",
    "              scoring='accuracy')\n",
    "rfecv_dt = RFECV(estimator=dt_base, step=1, min_features_to_select=10, cv=5,\n",
    "              scoring='accuracy')"
   ]
  },
  {
   "cell_type": "code",
   "execution_count": 47,
   "metadata": {},
   "outputs": [
    {
     "data": {
      "text/plain": [
       "RFECV(cv=5,\n",
       "      estimator=DecisionTreeClassifier(class_weight=None, criterion='gini',\n",
       "                                       max_depth=None, max_features=None,\n",
       "                                       max_leaf_nodes=None,\n",
       "                                       min_impurity_decrease=0.0,\n",
       "                                       min_impurity_split=None,\n",
       "                                       min_samples_leaf=1, min_samples_split=2,\n",
       "                                       min_weight_fraction_leaf=0.0,\n",
       "                                       presort=False, random_state=42,\n",
       "                                       splitter='best'),\n",
       "      min_features_to_select=10, n_jobs=None, scoring='accuracy', step=1,\n",
       "      verbose=0)"
      ]
     },
     "execution_count": 47,
     "metadata": {},
     "output_type": "execute_result"
    }
   ],
   "source": [
    "rfecv_lg.fit(X,y)\n",
    "rfecv_dt.fit(X,y)"
   ]
  },
  {
   "cell_type": "code",
   "execution_count": 48,
   "metadata": {},
   "outputs": [],
   "source": [
    "lg_feats = pd.DataFrame(rfecv_lg.ranking_)\n",
    "dt_feats = pd.DataFrame(rfecv_dt.ranking_)"
   ]
  },
  {
   "cell_type": "code",
   "execution_count": 49,
   "metadata": {},
   "outputs": [],
   "source": [
    "# Generating the feature selection for LogReg\n",
    "lg_feats = lg_feats.T\n",
    "lg_feats.rename(columns={0:X.columns[0], 1:X.columns[1], 2:X.columns[2], 3:X.columns[3], 4:X.columns[4],\n",
    "                         5:X.columns[5], 6:X.columns[6], 7:X.columns[7], 8:X.columns[8], 9:X.columns[9],\n",
    "                         10:X.columns[10], 11:X.columns[11], 12:X.columns[12]}, inplace=True)"
   ]
  },
  {
   "cell_type": "code",
   "execution_count": 50,
   "metadata": {},
   "outputs": [
    {
     "data": {
      "text/html": [
       "<div>\n",
       "<style scoped>\n",
       "    .dataframe tbody tr th:only-of-type {\n",
       "        vertical-align: middle;\n",
       "    }\n",
       "\n",
       "    .dataframe tbody tr th {\n",
       "        vertical-align: top;\n",
       "    }\n",
       "\n",
       "    .dataframe thead th {\n",
       "        text-align: right;\n",
       "    }\n",
       "</style>\n",
       "<table border=\"1\" class=\"dataframe\">\n",
       "  <thead>\n",
       "    <tr style=\"text-align: right;\">\n",
       "      <th></th>\n",
       "      <th>Feature Ranks</th>\n",
       "    </tr>\n",
       "  </thead>\n",
       "  <tbody>\n",
       "    <tr>\n",
       "      <td>limit_bal</td>\n",
       "      <td>1</td>\n",
       "    </tr>\n",
       "    <tr>\n",
       "      <td>sex</td>\n",
       "      <td>1</td>\n",
       "    </tr>\n",
       "    <tr>\n",
       "      <td>education</td>\n",
       "      <td>1</td>\n",
       "    </tr>\n",
       "    <tr>\n",
       "      <td>marriage</td>\n",
       "      <td>1</td>\n",
       "    </tr>\n",
       "    <tr>\n",
       "      <td>age</td>\n",
       "      <td>1</td>\n",
       "    </tr>\n",
       "    <tr>\n",
       "      <td>pay_0</td>\n",
       "      <td>1</td>\n",
       "    </tr>\n",
       "    <tr>\n",
       "      <td>avg_utilization</td>\n",
       "      <td>1</td>\n",
       "    </tr>\n",
       "    <tr>\n",
       "      <td>avg_payment_impact</td>\n",
       "      <td>1</td>\n",
       "    </tr>\n",
       "    <tr>\n",
       "      <td>debt_streak</td>\n",
       "      <td>1</td>\n",
       "    </tr>\n",
       "    <tr>\n",
       "      <td>debt_avg_delta</td>\n",
       "      <td>2</td>\n",
       "    </tr>\n",
       "    <tr>\n",
       "      <td>payment_improvements</td>\n",
       "      <td>1</td>\n",
       "    </tr>\n",
       "    <tr>\n",
       "      <td>pay_0n1</td>\n",
       "      <td>1</td>\n",
       "    </tr>\n",
       "    <tr>\n",
       "      <td>pay_0n2</td>\n",
       "      <td>1</td>\n",
       "    </tr>\n",
       "  </tbody>\n",
       "</table>\n",
       "</div>"
      ],
      "text/plain": [
       "                      Feature Ranks\n",
       "limit_bal                         1\n",
       "sex                               1\n",
       "education                         1\n",
       "marriage                          1\n",
       "age                               1\n",
       "pay_0                             1\n",
       "avg_utilization                   1\n",
       "avg_payment_impact                1\n",
       "debt_streak                       1\n",
       "debt_avg_delta                    2\n",
       "payment_improvements              1\n",
       "pay_0n1                           1\n",
       "pay_0n2                           1"
      ]
     },
     "execution_count": 50,
     "metadata": {},
     "output_type": "execute_result"
    }
   ],
   "source": [
    "lg_feats = lg_feats.T\n",
    "lg_feats.rename(columns={0:'Feature Ranks'}, inplace=True)\n",
    "lg_feats"
   ]
  },
  {
   "cell_type": "code",
   "execution_count": 51,
   "metadata": {},
   "outputs": [],
   "source": [
    "# Generating the feature selection for DecTree\n",
    "dt_feats = dt_feats.T\n",
    "dt_feats.rename(columns={0:X.columns[0], 1:X.columns[1], 2:X.columns[2], 3:X.columns[3], 4:X.columns[4],\n",
    "                         5:X.columns[5], 6:X.columns[6], 7:X.columns[7], 8:X.columns[8], 9:X.columns[9],\n",
    "                         10:X.columns[10], 11:X.columns[11], 12:X.columns[12]}, inplace=True)"
   ]
  },
  {
   "cell_type": "code",
   "execution_count": 52,
   "metadata": {},
   "outputs": [
    {
     "data": {
      "text/html": [
       "<div>\n",
       "<style scoped>\n",
       "    .dataframe tbody tr th:only-of-type {\n",
       "        vertical-align: middle;\n",
       "    }\n",
       "\n",
       "    .dataframe tbody tr th {\n",
       "        vertical-align: top;\n",
       "    }\n",
       "\n",
       "    .dataframe thead th {\n",
       "        text-align: right;\n",
       "    }\n",
       "</style>\n",
       "<table border=\"1\" class=\"dataframe\">\n",
       "  <thead>\n",
       "    <tr style=\"text-align: right;\">\n",
       "      <th></th>\n",
       "      <th>Feature Ranks</th>\n",
       "    </tr>\n",
       "  </thead>\n",
       "  <tbody>\n",
       "    <tr>\n",
       "      <td>limit_bal</td>\n",
       "      <td>1</td>\n",
       "    </tr>\n",
       "    <tr>\n",
       "      <td>sex</td>\n",
       "      <td>1</td>\n",
       "    </tr>\n",
       "    <tr>\n",
       "      <td>education</td>\n",
       "      <td>1</td>\n",
       "    </tr>\n",
       "    <tr>\n",
       "      <td>marriage</td>\n",
       "      <td>1</td>\n",
       "    </tr>\n",
       "    <tr>\n",
       "      <td>age</td>\n",
       "      <td>1</td>\n",
       "    </tr>\n",
       "    <tr>\n",
       "      <td>pay_0</td>\n",
       "      <td>1</td>\n",
       "    </tr>\n",
       "    <tr>\n",
       "      <td>avg_utilization</td>\n",
       "      <td>1</td>\n",
       "    </tr>\n",
       "    <tr>\n",
       "      <td>avg_payment_impact</td>\n",
       "      <td>1</td>\n",
       "    </tr>\n",
       "    <tr>\n",
       "      <td>debt_streak</td>\n",
       "      <td>1</td>\n",
       "    </tr>\n",
       "    <tr>\n",
       "      <td>debt_avg_delta</td>\n",
       "      <td>1</td>\n",
       "    </tr>\n",
       "    <tr>\n",
       "      <td>payment_improvements</td>\n",
       "      <td>1</td>\n",
       "    </tr>\n",
       "    <tr>\n",
       "      <td>pay_0n1</td>\n",
       "      <td>3</td>\n",
       "    </tr>\n",
       "    <tr>\n",
       "      <td>pay_0n2</td>\n",
       "      <td>2</td>\n",
       "    </tr>\n",
       "  </tbody>\n",
       "</table>\n",
       "</div>"
      ],
      "text/plain": [
       "                      Feature Ranks\n",
       "limit_bal                         1\n",
       "sex                               1\n",
       "education                         1\n",
       "marriage                          1\n",
       "age                               1\n",
       "pay_0                             1\n",
       "avg_utilization                   1\n",
       "avg_payment_impact                1\n",
       "debt_streak                       1\n",
       "debt_avg_delta                    1\n",
       "payment_improvements              1\n",
       "pay_0n1                           3\n",
       "pay_0n2                           2"
      ]
     },
     "execution_count": 52,
     "metadata": {},
     "output_type": "execute_result"
    }
   ],
   "source": [
    "dt_feats = dt_feats.T\n",
    "dt_feats.rename(columns={0:'Feature Ranks'}, inplace=True)\n",
    "dt_feats"
   ]
  },
  {
   "cell_type": "markdown",
   "metadata": {},
   "source": [
    "### 1 means important, with larger numbers indicating less importance\n"
   ]
  },
  {
   "cell_type": "markdown",
   "metadata": {},
   "source": [
    "---"
   ]
  },
  {
   "cell_type": "markdown",
   "metadata": {},
   "source": [
    "## Model Refinement | Hyperparameter Tuning"
   ]
  },
  {
   "cell_type": "markdown",
   "metadata": {},
   "source": [
    "---"
   ]
  },
  {
   "cell_type": "markdown",
   "metadata": {},
   "source": [
    "### LogReg Refinement"
   ]
  },
  {
   "cell_type": "markdown",
   "metadata": {},
   "source": [
    "#### Tunable Params\n",
    "* Cs=10\n",
    "* fit_intercept=True\n",
    "* cv='warn'\n",
    "* dual=False\n",
    "* penalty='l2'\n",
    "* scoring=None\n",
    "* solver='lbfgs'\n",
    "* tol=0.0001\n",
    "* max_iter=100\n",
    "* class_weight=None\n",
    "* n_jobs=None\n",
    "* verbose=0\n",
    "* refit=True\n",
    "* intercept_scaling=1.0\n",
    "* multi_class='warn'\n",
    "* random_state=None\n",
    "* l1_ratios=None"
   ]
  },
  {
   "cell_type": "code",
   "execution_count": 53,
   "metadata": {},
   "outputs": [],
   "source": [
    "param_grid = {\n",
    "    'Cs':[4, 8, 10, 12],\n",
    "    'cv':[3, 5, 8],\n",
    "    'penalty':['l1', 'l2'],\n",
    "    'solver':['liblinear', 'saga'],\n",
    "    'class_weight': ['balanced'],\n",
    "    'random_state':[42]\n",
    "}"
   ]
  },
  {
   "cell_type": "code",
   "execution_count": 60,
   "metadata": {},
   "outputs": [
    {
     "data": {
      "text/plain": [
       "GridSearchCV(cv='warn', error_score='raise-deprecating',\n",
       "             estimator=LogisticRegressionCV(Cs=10, class_weight=None, cv=5,\n",
       "                                            dual=False, fit_intercept=True,\n",
       "                                            intercept_scaling=1.0,\n",
       "                                            l1_ratios=None, max_iter=100,\n",
       "                                            multi_class='warn', n_jobs=None,\n",
       "                                            penalty='l2', random_state=42,\n",
       "                                            refit=True, scoring='accuracy',\n",
       "                                            solver='saga', tol=0.0001,\n",
       "                                            verbose=0),\n",
       "             iid='warn', n_jobs=None,\n",
       "             param_grid={'Cs': [4, 8, 10, 12], 'class_weight': ['balanced'],\n",
       "                         'cv': [3, 5, 8], 'penalty': ['l1', 'l2'],\n",
       "                         'random_state': [42],\n",
       "                         'solver': ['liblinear', 'saga']},\n",
       "             pre_dispatch='2*n_jobs', refit=True, return_train_score=False,\n",
       "             scoring=None, verbose=0)"
      ]
     },
     "execution_count": 60,
     "metadata": {},
     "output_type": "execute_result"
    }
   ],
   "source": [
    "gridsearch = GridSearchCV(estimator=logreg_base, param_grid=param_grid)\n",
    "gridsearch.fit(X.drop(columns=['debt_avg_delta'], axis=1),y)"
   ]
  },
  {
   "cell_type": "code",
   "execution_count": 61,
   "metadata": {
    "scrolled": true
   },
   "outputs": [
    {
     "data": {
      "text/plain": [
       "{'Cs': 4,\n",
       " 'class_weight': 'balanced',\n",
       " 'cv': 3,\n",
       " 'penalty': 'l1',\n",
       " 'random_state': 42,\n",
       " 'solver': 'liblinear'}"
      ]
     },
     "execution_count": 61,
     "metadata": {},
     "output_type": "execute_result"
    }
   ],
   "source": [
    "gridsearch.best_params_"
   ]
  },
  {
   "cell_type": "markdown",
   "metadata": {},
   "source": [
    "## Best LogReg Model\n",
    "`l1` penalty seemed to cause some problems with scoring, so I am going to leave this as `l2`"
   ]
  },
  {
   "cell_type": "code",
   "execution_count": 62,
   "metadata": {
    "scrolled": true
   },
   "outputs": [
    {
     "data": {
      "text/plain": [
       "LogisticRegressionCV(Cs=4, class_weight='balanced', cv=3, dual=False,\n",
       "                     fit_intercept=True, intercept_scaling=1.0, l1_ratios=None,\n",
       "                     max_iter=100, multi_class='warn', n_jobs=None,\n",
       "                     penalty='l2', random_state=42, refit=True, scoring=None,\n",
       "                     solver='liblinear', tol=0.0001, verbose=0)"
      ]
     },
     "execution_count": 62,
     "metadata": {},
     "output_type": "execute_result"
    }
   ],
   "source": [
    "lg_refined = LogisticRegressionCV(Cs=4, class_weight='balanced', cv=3, penalty='l2',\n",
    "                                 random_state=42, solver='liblinear')\n",
    "lg_refined.fit(X,y)"
   ]
  },
  {
   "cell_type": "code",
   "execution_count": 63,
   "metadata": {
    "scrolled": true
   },
   "outputs": [
    {
     "data": {
      "text/plain": [
       "{'fit_time': array([0.55793118, 0.56308007, 0.60768294, 0.53129888, 0.52650809]),\n",
       " 'score_time': array([0.01775193, 0.02073693, 0.02929926, 0.01945424, 0.01862502]),\n",
       " 'test_f1': array([0.50927924, 0.51559792, 0.51904563, 0.50568679, 0.5318872 ]),\n",
       " 'test_recall': array([0.55555556, 0.56026365, 0.58380414, 0.54476909, 0.57775683]),\n",
       " 'test_precision': array([0.47011952, 0.47752809, 0.46721929, 0.47183673, 0.49276527]),\n",
       " 'test_accuracy': array([0.76317434, 0.76708333, 0.760625  , 0.76453428, 0.77516149]),\n",
       " 'test_roc_auc': array([0.74912751, 0.7548469 , 0.75377152, 0.74442804, 0.76244422])}"
      ]
     },
     "execution_count": 63,
     "metadata": {},
     "output_type": "execute_result"
    }
   ],
   "source": [
    "cross_validate(lg_refined, X, y, scoring=['f1', 'recall', 'precision', 'accuracy', 'roc_auc'], cv=5)"
   ]
  },
  {
   "cell_type": "code",
   "execution_count": 64,
   "metadata": {
    "scrolled": true
   },
   "outputs": [
    {
     "name": "stdout",
     "output_type": "stream",
     "text": [
      "test_f1: 0.516299356\n",
      "test_recall: 0.5644298539999999\n",
      "test_precision: 0.47589378\n",
      "test_accuracy: 0.766115688\n",
      "roc_auc: 0.752923638\n"
     ]
    }
   ],
   "source": [
    "test_f1 = np.mean([0.50927924, 0.51559792, 0.51904563, 0.50568679, 0.5318872 ])\n",
    "test_recall = np.mean([0.55555556, 0.56026365, 0.58380414, 0.54476909, 0.57775683])\n",
    "test_precision = np.mean([0.47011952, 0.47752809, 0.46721929, 0.47183673, 0.49276527])\n",
    "test_accuracy = np.mean([0.76317434, 0.76708333, 0.760625  , 0.76453428, 0.77516149])\n",
    "roc_auc = np.mean([0.74912751, 0.7548469 , 0.75377152, 0.74442804, 0.76244422])\n",
    "print('test_f1:', test_f1)\n",
    "print('test_recall:', test_recall)\n",
    "print('test_precision:', test_precision)\n",
    "print('test_accuracy:', test_accuracy)\n",
    "print('roc_auc:', roc_auc)"
   ]
  },
  {
   "cell_type": "markdown",
   "metadata": {},
   "source": [
    "While this model did suffer in certain evaluation metrics compared to the base, I saw a considerable increase in the F1 score. "
   ]
  },
  {
   "cell_type": "markdown",
   "metadata": {},
   "source": [
    "---"
   ]
  },
  {
   "cell_type": "markdown",
   "metadata": {},
   "source": [
    "### KNN Refinement"
   ]
  },
  {
   "cell_type": "markdown",
   "metadata": {},
   "source": [
    "#### Tunable Params\n",
    "\n",
    "* algorithm='auto'\n",
    "* leaf_size=30\n",
    "* metric='minkowski'\n",
    "* metric_params=None\n",
    "* n_jobs=None\n",
    "* n_neighbors=5\n",
    "* p=2\n",
    "* weights='uniform'"
   ]
  },
  {
   "cell_type": "code",
   "execution_count": 97,
   "metadata": {},
   "outputs": [],
   "source": [
    "param_grid = {\n",
    "    'algorithm':['auto','ball_tree', 'kd_tree', 'brute'],\n",
    "    'weights':['uniform', 'distance'],\n",
    "    'p':[1,2],\n",
    "    'leaf_size':[20, 30, 40],\n",
    "    'n_neighbors':[2, 5, 10]\n",
    "}"
   ]
  },
  {
   "cell_type": "code",
   "execution_count": 98,
   "metadata": {},
   "outputs": [
    {
     "data": {
      "text/plain": [
       "GridSearchCV(cv=3, error_score='raise-deprecating',\n",
       "             estimator=KNeighborsClassifier(algorithm='auto', leaf_size=30,\n",
       "                                            metric='minkowski',\n",
       "                                            metric_params=None, n_jobs=None,\n",
       "                                            n_neighbors=5, p=2,\n",
       "                                            weights='uniform'),\n",
       "             iid='warn', n_jobs=None,\n",
       "             param_grid={'algorithm': ['auto', 'ball_tree', 'kd_tree', 'brute'],\n",
       "                         'leaf_size': [20, 30, 40], 'n_neighbors': [2, 5, 10],\n",
       "                         'p': [1, 2], 'weights': ['uniform', 'distance']},\n",
       "             pre_dispatch='2*n_jobs', refit=True, return_train_score=False,\n",
       "             scoring=None, verbose=0)"
      ]
     },
     "execution_count": 98,
     "metadata": {},
     "output_type": "execute_result"
    }
   ],
   "source": [
    "# Going to use all features\n",
    "gridsearch = GridSearchCV(estimator=knn, param_grid=param_grid, cv=3)\n",
    "gridsearch.fit(X,y)"
   ]
  },
  {
   "cell_type": "code",
   "execution_count": 99,
   "metadata": {
    "scrolled": true
   },
   "outputs": [
    {
     "data": {
      "text/plain": [
       "{'algorithm': 'auto',\n",
       " 'leaf_size': 20,\n",
       " 'n_neighbors': 10,\n",
       " 'p': 2,\n",
       " 'weights': 'uniform'}"
      ]
     },
     "execution_count": 99,
     "metadata": {},
     "output_type": "execute_result"
    }
   ],
   "source": [
    "gridsearch.best_params_"
   ]
  },
  {
   "cell_type": "code",
   "execution_count": 100,
   "metadata": {},
   "outputs": [
    {
     "data": {
      "text/plain": [
       "{'fit_time': array([0.11325788, 0.07064199, 0.06844592, 0.12845707, 0.07187819]),\n",
       " 'score_time': array([1.78325415, 1.69043803, 1.69204521, 1.7538228 , 1.67548966]),\n",
       " 'test_f1': array([0.38925295, 0.42077581, 0.39164491, 0.38258575, 0.41428571]),\n",
       " 'test_recall': array([0.27966102, 0.30131827, 0.28248588, 0.27332705, 0.30065975]),\n",
       " 'test_precision': array([0.64008621, 0.69716776, 0.63829787, 0.63736264, 0.66597077]),\n",
       " 'test_accuracy': array([0.80587378, 0.81645833, 0.80583333, 0.80495937, 0.81204418])}"
      ]
     },
     "execution_count": 100,
     "metadata": {},
     "output_type": "execute_result"
    }
   ],
   "source": [
    "knn_ref = KNeighborsClassifier(n_neighbors = 10)\n",
    "cross_validate(knn_ref, X, y, scoring=['f1', 'recall', 'precision', 'accuracy'], cv=5)"
   ]
  },
  {
   "cell_type": "code",
   "execution_count": 101,
   "metadata": {
    "scrolled": false
   },
   "outputs": [
    {
     "name": "stdout",
     "output_type": "stream",
     "text": [
      "test_f1: 0.39970902599999997\n",
      "test_recall: 0.28749039400000004\n"
     ]
    }
   ],
   "source": [
    "test_f1 = np.mean([0.38925295, 0.42077581, 0.39164491, 0.38258575, 0.41428571])\n",
    "test_recall = np.mean([0.27966102, 0.30131827, 0.28248588, 0.27332705, 0.30065975])\n",
    "print('test_f1:', test_f1)\n",
    "print('test_recall:', test_recall)"
   ]
  },
  {
   "cell_type": "markdown",
   "metadata": {},
   "source": [
    "---"
   ]
  },
  {
   "cell_type": "markdown",
   "metadata": {},
   "source": [
    "### DecisionTree Refinement\n",
    "\n",
    "#### Tunable Params\n",
    "* criterion\n",
    "* splitter\n",
    "* max_depth\n",
    "* min_samples_split\n",
    "* min_samples_leaf\n",
    "* class_weight"
   ]
  },
  {
   "cell_type": "code",
   "execution_count": 93,
   "metadata": {},
   "outputs": [],
   "source": [
    "param_grid = {\n",
    "    'criterion':['gini', 'entropy'],\n",
    "    'max_depth':[3, 5, 7],\n",
    "    'class_weight':[None, 'balanced'],\n",
    "    'random_state':[42],\n",
    "    'min_samples_leaf':[1,2,5],\n",
    "    'min_samples_split':[2,3,4,6]\n",
    "}"
   ]
  },
  {
   "cell_type": "code",
   "execution_count": 94,
   "metadata": {},
   "outputs": [
    {
     "data": {
      "text/plain": [
       "GridSearchCV(cv=3, error_score='raise-deprecating',\n",
       "             estimator=DecisionTreeClassifier(class_weight=None,\n",
       "                                              criterion='gini', max_depth=None,\n",
       "                                              max_features=None,\n",
       "                                              max_leaf_nodes=None,\n",
       "                                              min_impurity_decrease=0.0,\n",
       "                                              min_impurity_split=None,\n",
       "                                              min_samples_leaf=1,\n",
       "                                              min_samples_split=2,\n",
       "                                              min_weight_fraction_leaf=0.0,\n",
       "                                              presort=False, random_state=42,\n",
       "                                              splitter='best'),\n",
       "             iid='warn', n_jobs=None,\n",
       "             param_grid={'class_weight': [None, 'balanced'],\n",
       "                         'criterion': ['gini', 'entropy'],\n",
       "                         'max_depth': [3, 5, 7], 'min_samples_leaf': [1, 2, 5],\n",
       "                         'min_samples_split': [2, 3, 4, 6],\n",
       "                         'random_state': [42]},\n",
       "             pre_dispatch='2*n_jobs', refit=True, return_train_score=False,\n",
       "             scoring=None, verbose=0)"
      ]
     },
     "execution_count": 94,
     "metadata": {},
     "output_type": "execute_result"
    }
   ],
   "source": [
    "gridsearch = GridSearchCV(estimator=dt_base, param_grid=param_grid, cv=3)\n",
    "gridsearch.fit(X.drop(columns=['pay_0n1', 'pay_0n2'], axis=1),y)"
   ]
  },
  {
   "cell_type": "code",
   "execution_count": 95,
   "metadata": {},
   "outputs": [
    {
     "data": {
      "text/plain": [
       "{'class_weight': None,\n",
       " 'criterion': 'gini',\n",
       " 'max_depth': 3,\n",
       " 'min_samples_leaf': 1,\n",
       " 'min_samples_split': 2,\n",
       " 'random_state': 42}"
      ]
     },
     "execution_count": 95,
     "metadata": {},
     "output_type": "execute_result"
    }
   ],
   "source": [
    "gridsearch.best_params_"
   ]
  },
  {
   "cell_type": "markdown",
   "metadata": {},
   "source": [
    "There was a change in the `max_depth` parameter. Will be setting `max_depth` to 3."
   ]
  },
  {
   "cell_type": "code",
   "execution_count": 85,
   "metadata": {},
   "outputs": [
    {
     "data": {
      "text/plain": [
       "DecisionTreeClassifier(class_weight=None, criterion='gini', max_depth=3,\n",
       "                       max_features=None, max_leaf_nodes=None,\n",
       "                       min_impurity_decrease=0.0, min_impurity_split=None,\n",
       "                       min_samples_leaf=1, min_samples_split=2,\n",
       "                       min_weight_fraction_leaf=0.0, presort=False,\n",
       "                       random_state=42, splitter='best')"
      ]
     },
     "execution_count": 85,
     "metadata": {},
     "output_type": "execute_result"
    }
   ],
   "source": [
    "dt_refined = DecisionTreeClassifier(class_weight = None,\n",
    "                                    criterion = 'gini', max_depth = 3,\n",
    "                                    random_state = 42)\n",
    "# Going to drop the columns that the RFECV selector scored 2 or 3\n",
    "dt_refined.fit(X.drop(columns=['pay_0n1', 'pay_0n2'], axis=1),y)"
   ]
  },
  {
   "cell_type": "code",
   "execution_count": 86,
   "metadata": {},
   "outputs": [
    {
     "data": {
      "text/plain": [
       "{'fit_time': array([0.05379486, 0.03170371, 0.03180695, 0.02682185, 0.02729106]),\n",
       " 'score_time': array([0.0265429 , 0.01683712, 0.01570797, 0.01547122, 0.015692  ]),\n",
       " 'test_f1': array([0.44684914, 0.4396608 , 0.45402663, 0.41655716, 0.46835443]),\n",
       " 'test_recall': array([0.33050847, 0.3173258 , 0.33709981, 0.29877474, 0.34872762]),\n",
       " 'test_precision': array([0.68958743, 0.71549894, 0.69514563, 0.68763557, 0.71290944]),\n",
       " 'test_accuracy': array([0.81899604, 0.82104167, 0.820625  , 0.81496145, 0.82496353]),\n",
       " 'test_roc_auc': array([0.72330827, 0.7267817 , 0.73206741, 0.7171861 , 0.73633945])}"
      ]
     },
     "execution_count": 86,
     "metadata": {},
     "output_type": "execute_result"
    }
   ],
   "source": [
    "cross_validate(dt_refined, X.drop(columns=['pay_0n1', 'pay_0n2'], axis=1), y, scoring=['f1', 'recall', 'precision', 'accuracy', 'roc_auc'], cv=5)"
   ]
  },
  {
   "cell_type": "code",
   "execution_count": 87,
   "metadata": {},
   "outputs": [
    {
     "name": "stdout",
     "output_type": "stream",
     "text": [
      "test_f1: 0.445089632\n",
      "test_recall: 0.326487288\n",
      "test_precision: 0.700155402\n",
      "test_accuracy: 0.8201175380000001\n",
      "roc_auc: 0.7271365860000001\n"
     ]
    }
   ],
   "source": [
    "test_f1 = np.mean([0.44684914, 0.4396608 , 0.45402663, 0.41655716, 0.46835443])\n",
    "test_recall = np.mean([0.33050847, 0.3173258 , 0.33709981, 0.29877474, 0.34872762])\n",
    "test_precision = np.mean([0.68958743, 0.71549894, 0.69514563, 0.68763557, 0.71290944])\n",
    "test_accuracy = np.mean([0.81899604, 0.82104167, 0.820625  , 0.81496145, 0.82496353])\n",
    "roc_auc = np.mean([0.72330827, 0.7267817 , 0.73206741, 0.7171861 , 0.73633945])\n",
    "print('test_f1:', test_f1)\n",
    "print('test_recall:', test_recall)\n",
    "print('test_precision:', test_precision)\n",
    "print('test_accuracy:', test_accuracy)\n",
    "print('roc_auc:', roc_auc)"
   ]
  },
  {
   "cell_type": "markdown",
   "metadata": {},
   "source": [
    "Can turn this into a graph for the final project"
   ]
  },
  {
   "cell_type": "markdown",
   "metadata": {},
   "source": [
    "## LogReg Base\n",
    "test_f1: 0.45870484000000006  \n",
    "test_recall: 0.3464569     \n",
    "  \n",
    "## KNN Base\n",
    "test_f1: 0.422461992  \n",
    "test_recall: 0.341561366  \n",
    "\n",
    "## DTC Base\n",
    "test_f1: 0.39840968199999993  \n",
    "test_recall: 0.4120257519999999  "
   ]
  },
  {
   "cell_type": "markdown",
   "metadata": {},
   "source": [
    "---"
   ]
  },
  {
   "cell_type": "markdown",
   "metadata": {},
   "source": [
    "## LogReg Refined **\n",
    "**test_f1: 0.516299356**  \n",
    "**test_recall: 0.5644298539999999**\n",
    "\n",
    "## KNN Refined\n",
    "test_f1: 0.39970902599999997  \n",
    "test_recall: 0.28749039400000004  \n",
    "\n",
    "## DTC Refined\n",
    "test_f1: 0.445089632  \n",
    "test_recall: 0.326487288  "
   ]
  },
  {
   "cell_type": "markdown",
   "metadata": {},
   "source": [
    "## Conclusion\n",
    "The best model was the LogReg Refined model, scoring the highest F1 and Recall. These two metrics were chosen to be the deciding factors, with more weight being given to F1, because the cost of not forseeing if someone will default on their credit cards due to a False Negative is higher than mistakenly flagging someone that they might be on track to default on their credit cards. This may actually benefit some customers who are tetering on that fence of poor credit history, and thus could benefit from resources to help them better their credit or also benefit the credit company by not allowing the individual to open a line.\n"
   ]
  },
  {
   "cell_type": "code",
   "execution_count": null,
   "metadata": {},
   "outputs": [],
   "source": []
  }
 ],
 "metadata": {
  "kernelspec": {
   "display_name": "Python 3",
   "language": "python",
   "name": "python3"
  },
  "language_info": {
   "codemirror_mode": {
    "name": "ipython",
    "version": 3
   },
   "file_extension": ".py",
   "mimetype": "text/x-python",
   "name": "python",
   "nbconvert_exporter": "python",
   "pygments_lexer": "ipython3",
   "version": "3.7.4"
  }
 },
 "nbformat": 4,
 "nbformat_minor": 2
}
